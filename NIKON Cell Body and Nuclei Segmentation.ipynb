{
 "cells": [
  {
   "cell_type": "code",
   "execution_count": 1,
   "id": "42f26568",
   "metadata": {},
   "outputs": [],
   "source": [
    "from concurrent.futures import ThreadPoolExecutor\n",
    "import os\n",
    "import re\n",
    "import numpy as np\n",
    "from skimage.filters import gaussian\n",
    "import tifffile\n",
    "from skimage import io, filters, exposure, morphology, util\n",
    "from skimage.morphology import binary_closing, binary_opening, ball, remove_small_holes, remove_small_objects\n",
    "from skimage.segmentation import clear_border\n",
    "import matplotlib\n",
    "from matplotlib.backends.backend_agg import FigureCanvasAgg\n",
    "from matplotlib.figure import Figure\n",
    "\n"
   ]
  },
  {
   "cell_type": "code",
   "execution_count": 2,
   "id": "b0ac28e7-335f-4aa3-9728-5b406743f551",
   "metadata": {},
   "outputs": [],
   "source": [
    "# creates a list of paths (path_list) with working files\n",
    "\n",
    "import os\n",
    "\n",
    "# Create a list of paths the name of which has two variables: mNRA_Name and SubSET\n",
    "# def get_path(mNRA_Red, mRNA_Green, SubSET):\n",
    "\n",
    "def get_path():\n",
    "\n",
    "\n",
    "    input_dir = fr'\\\\?\\G:\\Nikon_Data_2018-2020\\R35_Feb2024\\PLASec61'\n",
    "    path_list = []\n",
    "\n",
    "    # Loop through all directories and subdirectories inside the input directory\n",
    "    for root, dirs, files in os.walk(input_dir):\n",
    "        # Loop through all files in the current directory\n",
    "        for file in files:\n",
    "            # Check if the file has an _info.txt extension and starts with the folder name\n",
    "            if \"_info.txt\" in file and file.startswith(os.path.basename(root)):\n",
    "                \n",
    "                # Read the file content and convert it to lowercase\n",
    "                \n",
    "                path_list.append(root)\n",
    "\n",
    "    # Return the list of paths\n",
    "    return path_list\n"
   ]
  },
  {
   "cell_type": "code",
   "execution_count": 3,
   "id": "76cc30e1",
   "metadata": {},
   "outputs": [
    {
     "data": {
      "text/plain": [
       "6"
      ]
     },
     "execution_count": 3,
     "metadata": {},
     "output_type": "execute_result"
    }
   ],
   "source": [
    "# runs function get_path and saves path list as .txt file\n",
    "\n",
    "path_list = get_path()\n",
    "\n",
    "with open('path_list.txt', 'w') as file:\n",
    "    for item in path_list:\n",
    "        file.write(item + '\\n')\n",
    "        \n",
    "len(path_list)"
   ]
  },
  {
   "cell_type": "code",
   "execution_count": 5,
   "id": "896ad6c7",
   "metadata": {},
   "outputs": [],
   "source": [
    "# path_list # to check the nimber of folders"
   ]
  },
  {
   "cell_type": "code",
   "execution_count": 10,
   "id": "e2917829",
   "metadata": {},
   "outputs": [],
   "source": [
    "# function for parallelization that takes masked and raw images of mRNA from the path list and labels puncta\n",
    "\n",
    "def normalize_image(file_path):\n",
    "    image = tifffile.imread(file_path)\n",
    "\n",
    "    # Convert to float for processing\n",
    "    img_3d = image.astype(np.float32)  # Use float32 for memory efficiency\n",
    "\n",
    "    # Normalize each image based on its own max value\n",
    "    # max_val = img_3d.mean() * 5 # Cell Bodies\n",
    "    max_val = img_3d.max() # mRNA and Protein \n",
    "    # max_val = img_3d.max() / 2 # Nuclei \n",
    "    \n",
    "    if max_val > 0:  # Avoid division by zero\n",
    "        img_3d /= max_val\n",
    "        \n",
    "    return img_3d\n",
    "\n",
    "\n",
    "def Nikon_segment_cell_body(path):\n",
    "    \n",
    "    Body_dir = fr'\\\\?\\G:\\Nikon_Data_2018-2020\\R35_Feb2024\\PLASec61\\Body'\n",
    "    \n",
    "    # Check if the directory exists, and create it if it does not\n",
    "    if not os.path.exists(Body_dir):\n",
    "        os.makedirs(Body_dir, exist_ok=True)\n",
    "\n",
    "    try:\n",
    "        with open(os.path.join(path, os.path.basename(path) + '_info.txt'), 'r', encoding='utf-8', errors='ignore') as file:\n",
    "            content = file.read()\n",
    "\n",
    "        # # if you have 3 channels:\n",
    "        # # Extract channel numbers and names using regular expressions\n",
    "        channel_numbers = list(map(int, re.findall(r'ChannelNumbers:(\\d+),(\\d+),(\\d+)', content)[0]))\n",
    "        channel_names = re.findall(r'ChannelNames:(\\w+),(\\w+),(\\w+)', content)[0]\n",
    "\n",
    "        # uncomment if you have 4 channels:\n",
    "        # channel_numbers = list(map(int, re.findall(r'ChannelNumbers:(\\d+),(\\d+),(\\d+),(\\d+)', content)[0])) #ONLY for 3rd channel\n",
    "        # channel_names = re.findall(r'ChannelNames:(\\w+),(\\w+),(\\w+),(\\w+)', content)[0] #ONLY for 3rd channel\n",
    "        \n",
    "        # uncomment if you have 1 channel:\n",
    "        # channel_numbers = list(map(int, re.findall(r'ChannelNumbers:(\\d+),(\\d+)', content)[0]))\n",
    "        # channel_names = re.findall(r'ChannelNames:(\\w+),(\\w+)', content)[0] \n",
    "                \n",
    "        \n",
    "        # Combine channel numbers and names into a dictionary\n",
    "        channel_info = dict(zip(channel_numbers, channel_names))\n",
    "\n",
    "        mask0 = channel_names[0]\n",
    "        raw0 = channel_numbers[0]\n",
    "        mask1 = channel_names[1]\n",
    "        raw1 = channel_numbers[1]\n",
    "        mask2 = channel_names[2]\n",
    "        raw2 = channel_numbers[2]\n",
    "#         mask3 = channel_names[3] # if you have 4 channels\n",
    "#         raw3 = channel_numbers[3] # if you have 4 channels\n",
    "        \n",
    "        Nuclei_mask_path = os.path.join(path, os.path.basename(path) + f'_ch0{raw0}.tif')\n",
    "        Body_mask_path = os.path.join(path, os.path.basename(path) + f'_ch0{raw0}.tif')\n",
    "    \n",
    "        # Load the raw 3D tif image\n",
    "        # raw_image1 = tifffile.imread(Nuclei_mask_path)\n",
    "        # raw_image4 = tifffile.imread(Body_mask_path)\n",
    "        \n",
    "        raw_image1 = normalize_image(Nuclei_mask_path)\n",
    "        raw_image4 = normalize_image(Body_mask_path)\n",
    "\n",
    "        # Apply a 3D Gaussian filter to the raw image (optional, but can help reduce noise)\n",
    "        smoothed_image1 = gaussian(raw_image1, sigma=3)\n",
    "        smoothed_image4 = gaussian(raw_image4, sigma=4)\n",
    "\n",
    "        # Compute the Otsu's threshold value\n",
    "        threshold_value1 = np.max(smoothed_image1) / 10 # parameters to change (for NIKON typically 4-6)\n",
    "        threshold_value4 = np.mean(smoothed_image4) * 1.1 # parameters to change (for NIKON typically 0.5-2.5)\n",
    "\n",
    "        # Create a binary mask by thresholding the (optionally smoothed) raw image\n",
    "        binary_mask1 = smoothed_image1 > threshold_value1    \n",
    "        binary_mask4 = smoothed_image4 > threshold_value4    \n",
    "\n",
    "        # Perform the closing operation\n",
    "        closed_binary_mask1 = binary_closing(binary_mask1, ball(4)) # \"4\" is typically works well for the most of the cell nuclei images\n",
    "        draft_opened_binary_mask4 = binary_opening(binary_mask4, ball(2)) # \"2\" is typically works well for the most of the cell body images\n",
    "\n",
    "        width_cell = 130\n",
    "    \n",
    "        binary_body_mask1 = remove_small_objects(draft_opened_binary_mask4, min_size=width_cell ** 3) # binary cytosol clean  \n",
    "        closed_binary_body_mask = binary_closing(binary_body_mask1, ball(4)) # \"4\" is typically works well for the most of the cell body images\n",
    "        binary_body_mask_cleaned = remove_small_holes(closed_binary_body_mask, area_threshold=width_cell ** 3) # binary body mask\n",
    "        binary_body_mask = binary_opening(binary_body_mask_cleaned, ball(2)) # \"2\" is typically works well for the most of the cell body images\n",
    "\n",
    "        # Create Body mask      \n",
    "        binary_body_mask = binary_body_mask      \n",
    "    \n",
    "        # Create Nuclei mask\n",
    "        width_nuclei = 30\n",
    "        \n",
    "        pre_binary_nuclei_mask_cleaned = remove_small_holes(closed_binary_mask1, area_threshold=width_nuclei ** 3) # binary body mask\n",
    "        pre_binary_nuclei_mask = remove_small_objects(pre_binary_nuclei_mask_cleaned, min_size=width_nuclei ** 3) # binary cytosol clean        \n",
    "        \n",
    "        opened_binary_nuclei_mask = binary_opening(pre_binary_nuclei_mask, ball(4))        \n",
    "        binary_nuclei_mask = opened_binary_nuclei_mask\n",
    "\n",
    "        # Create Cytosol mask\n",
    "        inverted_nuclei_mask = np.bitwise_not(binary_nuclei_mask) # Invert the nuclei mask\n",
    "        binary_cytosol_mask = binary_body_mask * inverted_nuclei_mask\n",
    "           \n",
    "        # Create Nuclei MAX mask\n",
    "        nuclei_mask_MAX = np.max(binary_nuclei_mask, axis=0)\n",
    "        # Create Body MAX mask\n",
    "        body_mask_MAX = np.max(binary_body_mask, axis=0)    \n",
    "        # Create Cytosol MAX mask\n",
    "        inverted_nuclei_mask_MAX = np.bitwise_not(nuclei_mask_MAX)\n",
    "        cytosol_mask_MAX = inverted_nuclei_mask_MAX * body_mask_MAX\n",
    "        \n",
    "        directory_name = 'Segmented'\n",
    "        segmented_dir_path = os.path.join(path, directory_name)\n",
    "\n",
    "        # Add these lines\n",
    "        if not os.path.exists(segmented_dir_path):\n",
    "            os.makedirs(segmented_dir_path)\n",
    "\n",
    "        #saves the segmented images in the same directory the processed images are\n",
    "        Masked_image1_path = os.path.join(segmented_dir_path, f'Masked_Body_image.tif')\n",
    "        Masked_image2_path = os.path.join(segmented_dir_path, f'Masked_Nuclei_image.tif')\n",
    "        Masked_image3_path = os.path.join(segmented_dir_path, f'Masked_Cytosol_image.tif')\n",
    "        \n",
    "        io.imsave(Masked_image1_path, binary_body_mask)\n",
    "        io.imsave(Masked_image2_path, binary_nuclei_mask)\n",
    "        io.imsave(Masked_image3_path, binary_cytosol_mask)\n",
    "        \n",
    "        print(f\"Masked image 4 saved in: {os.path.abspath(Masked_image2_path)}\")\n",
    "        \n",
    "        # Set up the plot configurations\n",
    "        plot_titles = [ f'Raw {mask0} {raw_image4.shape[1]}', f'Body {raw_image1.shape[1]}', f'Nuclei {raw_image1.shape[1]}', f'Cytosol {raw_image1.shape[1]}', f'draft_opened_binary_mask4 {raw_image1.shape[1]}', f'binary_body_mask {raw_image1.shape[1]}']\n",
    "        images = [np.max(raw_image4, axis=0), body_mask_MAX, nuclei_mask_MAX, cytosol_mask_MAX, np.max(draft_opened_binary_mask4, axis=0), np.max(binary_body_mask, axis=0)]\n",
    "\n",
    "        # Create a new figure and set the size\n",
    "        fig = Figure(figsize=(10, 10))\n",
    "        canvas = FigureCanvasAgg(fig)\n",
    "\n",
    "        # Iterate through the images and add them as subplots\n",
    "        for i, (image, title) in enumerate(zip(images, plot_titles)):\n",
    "            ax = fig.add_subplot(2, 3, i+1)\n",
    "            ax.imshow(image)\n",
    "            ax.set_title(title)\n",
    "            ax.axis('off')\n",
    "\n",
    "        # Adjust the layout automatically\n",
    "        fig.tight_layout()\n",
    "\n",
    "        Body_path = os.path.join(Body_dir, os.path.basename(path) + '.png')\n",
    "\n",
    "        # Save the plot as a PNG file with 300 DPI\n",
    "        canvas.print_figure(Body_path, dpi=300)\n",
    "\n",
    "        print(f\"Masked image 5 saved in: {os.path.abspath(Body_path)}\")\n",
    "        \n",
    "    except Exception as e:\n",
    "        print(f\"Error processing image at path {path}: {e}\")\n",
    "        \n",
    "    return"
   ]
  },
  {
   "cell_type": "code",
   "execution_count": 11,
   "id": "4feab63d-72b6-40b6-a228-c7bedfb3f9ed",
   "metadata": {},
   "outputs": [
    {
     "name": "stdout",
     "output_type": "stream",
     "text": [
      "0\n"
     ]
    }
   ],
   "source": [
    "# this code creates paths to the folders where the segmentation was bad\n",
    "\n",
    "import os\n",
    "\n",
    "def get_paths_from_png_files_with_bad_segmentation():\n",
    "    input_dir = fr'\\\\?\\G:\\Nikon_Data_2018-2020\\R35_Feb2024\\PLASec61\\Again'\n",
    "\n",
    "    # Check if the directory exists, and create it if it does not\n",
    "    if not os.path.exists(input_dir):\n",
    "        os.makedirs(input_dir, exist_ok=True)\n",
    "    \n",
    "    path_list = []\n",
    "\n",
    "    for root, dirs, files in os.walk(input_dir):\n",
    "        for file in files:\n",
    "            if \".png\" in file:\n",
    "                # Remove the '.png' extension and the word 'Again' from the path\n",
    "                modified_root = root.replace(\"Again\", \"\")\n",
    "                file_without_extension = os.path.splitext(file)[0]\n",
    "                # Add the 'fr' prefix to the path when appending to path_list\n",
    "                path_list.append(fr\"{modified_root}{file_without_extension}\")\n",
    "\n",
    "    return path_list\n",
    "\n",
    "# Get the path list with 'fr' prefix\n",
    "path_list_with_bad_segmentation = get_paths_from_png_files_with_bad_segmentation()\n",
    "\n",
    "# Print the path list to verify\n",
    "for path in path_list_with_bad_segmentation:\n",
    "    print(path)\n",
    "print(len(path_list_with_bad_segmentation))"
   ]
  },
  {
   "cell_type": "code",
   "execution_count": 12,
   "id": "f75e399d",
   "metadata": {},
   "outputs": [],
   "source": [
    "# function of parallelization of process_image() function\n",
    "\n",
    "from concurrent.futures import ThreadPoolExecutor, as_completed\n",
    "from tqdm import tqdm\n",
    "\n",
    "def Nikon_segment_cell_body_PARALLEL(path_list):\n",
    "    with ThreadPoolExecutor(max_workers=32) as executor: #specify the number of cpu cores you want to use\n",
    "        futures = {executor.submit(Nikon_segment_cell_body, path): path for path in path_list}\n",
    "\n",
    "        for future in tqdm(as_completed(futures), total=len(path_list), desc=\"Processing Images\"):\n",
    "            pass"
   ]
  },
  {
   "cell_type": "code",
   "execution_count": 13,
   "id": "300e01ca",
   "metadata": {},
   "outputs": [
    {
     "data": {
      "text/plain": [
       "6"
      ]
     },
     "execution_count": 13,
     "metadata": {},
     "output_type": "execute_result"
    }
   ],
   "source": [
    "len(path_list)"
   ]
  },
  {
   "cell_type": "code",
   "execution_count": 14,
   "id": "56f6261c",
   "metadata": {},
   "outputs": [
    {
     "data": {
      "text/plain": [
       "0"
      ]
     },
     "execution_count": 14,
     "metadata": {},
     "output_type": "execute_result"
    }
   ],
   "source": [
    "len(path_list_with_bad_segmentation)"
   ]
  },
  {
   "cell_type": "code",
   "execution_count": 15,
   "id": "a6ee5e97",
   "metadata": {
    "scrolled": true
   },
   "outputs": [
    {
     "name": "stderr",
     "output_type": "stream",
     "text": [
      "Processing Images:   0%|                                                                         | 0/6 [00:00<?, ?it/s]C:\\Users\\Exx\\AppData\\Local\\Temp\\ipykernel_18744\\3891615872.py:127: UserWarning: \\\\?\\G:\\Nikon_Data_2018-2020\\R35_Feb2024\\PLASec61\\2024-01-30_PLA RyR2Sec61a-488 and after a-actinin-568 fc_cell2 deconv\\Segmented\\Masked_Body_image.tif is a boolean image: setting True to 255 and False to 0. To silence this warning, please convert the image using img_as_ubyte.\n",
      "  io.imsave(Masked_image1_path, binary_body_mask)\n",
      "C:\\Users\\Exx\\AppData\\Local\\Temp\\ipykernel_18744\\3891615872.py:128: UserWarning: \\\\?\\G:\\Nikon_Data_2018-2020\\R35_Feb2024\\PLASec61\\2024-01-30_PLA RyR2Sec61a-488 and after a-actinin-568 fc_cell2 deconv\\Segmented\\Masked_Nuclei_image.tif is a boolean image: setting True to 255 and False to 0. To silence this warning, please convert the image using img_as_ubyte.\n",
      "  io.imsave(Masked_image2_path, binary_nuclei_mask)\n",
      "C:\\Users\\Exx\\AppData\\Local\\Temp\\ipykernel_18744\\3891615872.py:128: UserWarning: \\\\?\\G:\\Nikon_Data_2018-2020\\R35_Feb2024\\PLASec61\\2024-01-30_PLA RyR2Sec61a-488 and after a-actinin-568 fc_cell2 deconv\\Segmented\\Masked_Nuclei_image.tif is a low contrast image\n",
      "  io.imsave(Masked_image2_path, binary_nuclei_mask)\n",
      "C:\\Users\\Exx\\AppData\\Local\\Temp\\ipykernel_18744\\3891615872.py:129: UserWarning: \\\\?\\G:\\Nikon_Data_2018-2020\\R35_Feb2024\\PLASec61\\2024-01-30_PLA RyR2Sec61a-488 and after a-actinin-568 fc_cell2 deconv\\Segmented\\Masked_Cytosol_image.tif is a boolean image: setting True to 255 and False to 0. To silence this warning, please convert the image using img_as_ubyte.\n",
      "  io.imsave(Masked_image3_path, binary_cytosol_mask)\n"
     ]
    },
    {
     "name": "stdout",
     "output_type": "stream",
     "text": [
      "Masked image 4 saved in: \\\\?\\G:\\Nikon_Data_2018-2020\\R35_Feb2024\\PLASec61\\2024-01-30_PLA RyR2Sec61a-488 and after a-actinin-568 fc_cell2 deconv\\Segmented\\Masked_Nuclei_image.tif\n"
     ]
    },
    {
     "name": "stderr",
     "output_type": "stream",
     "text": [
      "Processing Images:  17%|██████████▊                                                      | 1/6 [00:25<02:08, 25.73s/it]"
     ]
    },
    {
     "name": "stdout",
     "output_type": "stream",
     "text": [
      "Masked image 5 saved in: \\\\?\\G:\\Nikon_Data_2018-2020\\R35_Feb2024\\PLASec61\\Body\\2024-01-30_PLA RyR2Sec61a-488 and after a-actinin-568 fc_cell2 deconv.png\n"
     ]
    },
    {
     "name": "stderr",
     "output_type": "stream",
     "text": [
      "C:\\Users\\Exx\\AppData\\Local\\Temp\\ipykernel_18744\\3891615872.py:127: UserWarning: \\\\?\\G:\\Nikon_Data_2018-2020\\R35_Feb2024\\PLASec61\\2024-01-1 WT F_PLA_SercaSec61-488_Actinin-568 C2_deconv\\Segmented\\Masked_Body_image.tif is a boolean image: setting True to 255 and False to 0. To silence this warning, please convert the image using img_as_ubyte.\n",
      "  io.imsave(Masked_image1_path, binary_body_mask)\n",
      "C:\\Users\\Exx\\AppData\\Local\\Temp\\ipykernel_18744\\3891615872.py:128: UserWarning: \\\\?\\G:\\Nikon_Data_2018-2020\\R35_Feb2024\\PLASec61\\2024-01-1 WT F_PLA_SercaSec61-488_Actinin-568 C2_deconv\\Segmented\\Masked_Nuclei_image.tif is a boolean image: setting True to 255 and False to 0. To silence this warning, please convert the image using img_as_ubyte.\n",
      "  io.imsave(Masked_image2_path, binary_nuclei_mask)\n",
      "C:\\Users\\Exx\\AppData\\Local\\Temp\\ipykernel_18744\\3891615872.py:128: UserWarning: \\\\?\\G:\\Nikon_Data_2018-2020\\R35_Feb2024\\PLASec61\\2024-01-1 WT F_PLA_SercaSec61-488_Actinin-568 C2_deconv\\Segmented\\Masked_Nuclei_image.tif is a low contrast image\n",
      "  io.imsave(Masked_image2_path, binary_nuclei_mask)\n",
      "C:\\Users\\Exx\\AppData\\Local\\Temp\\ipykernel_18744\\3891615872.py:129: UserWarning: \\\\?\\G:\\Nikon_Data_2018-2020\\R35_Feb2024\\PLASec61\\2024-01-1 WT F_PLA_SercaSec61-488_Actinin-568 C2_deconv\\Segmented\\Masked_Cytosol_image.tif is a boolean image: setting True to 255 and False to 0. To silence this warning, please convert the image using img_as_ubyte.\n",
      "  io.imsave(Masked_image3_path, binary_cytosol_mask)\n"
     ]
    },
    {
     "name": "stdout",
     "output_type": "stream",
     "text": [
      "Masked image 4 saved in: \\\\?\\G:\\Nikon_Data_2018-2020\\R35_Feb2024\\PLASec61\\2024-01-1 WT F_PLA_SercaSec61-488_Actinin-568 C2_deconv\\Segmented\\Masked_Nuclei_image.tif\n"
     ]
    },
    {
     "name": "stderr",
     "output_type": "stream",
     "text": [
      "Processing Images:  33%|█████████████████████▋                                           | 2/6 [00:28<00:49, 12.40s/it]"
     ]
    },
    {
     "name": "stdout",
     "output_type": "stream",
     "text": [
      "Masked image 5 saved in: \\\\?\\G:\\Nikon_Data_2018-2020\\R35_Feb2024\\PLASec61\\Body\\2024-01-1 WT F_PLA_SercaSec61-488_Actinin-568 C2_deconv.png\n"
     ]
    },
    {
     "name": "stderr",
     "output_type": "stream",
     "text": [
      "C:\\Users\\Exx\\AppData\\Local\\Temp\\ipykernel_18744\\3891615872.py:127: UserWarning: \\\\?\\G:\\Nikon_Data_2018-2020\\R35_Feb2024\\PLASec61\\2024-01-30_PLA RyR2Sec61a-488 and after a-actinin-568_cell3 deconv\\Segmented\\Masked_Body_image.tif is a boolean image: setting True to 255 and False to 0. To silence this warning, please convert the image using img_as_ubyte.\n",
      "  io.imsave(Masked_image1_path, binary_body_mask)\n",
      "C:\\Users\\Exx\\AppData\\Local\\Temp\\ipykernel_18744\\3891615872.py:128: UserWarning: \\\\?\\G:\\Nikon_Data_2018-2020\\R35_Feb2024\\PLASec61\\2024-01-30_PLA RyR2Sec61a-488 and after a-actinin-568_cell3 deconv\\Segmented\\Masked_Nuclei_image.tif is a boolean image: setting True to 255 and False to 0. To silence this warning, please convert the image using img_as_ubyte.\n",
      "  io.imsave(Masked_image2_path, binary_nuclei_mask)\n",
      "C:\\Users\\Exx\\AppData\\Local\\Temp\\ipykernel_18744\\3891615872.py:128: UserWarning: \\\\?\\G:\\Nikon_Data_2018-2020\\R35_Feb2024\\PLASec61\\2024-01-30_PLA RyR2Sec61a-488 and after a-actinin-568_cell3 deconv\\Segmented\\Masked_Nuclei_image.tif is a low contrast image\n",
      "  io.imsave(Masked_image2_path, binary_nuclei_mask)\n",
      "C:\\Users\\Exx\\AppData\\Local\\Temp\\ipykernel_18744\\3891615872.py:129: UserWarning: \\\\?\\G:\\Nikon_Data_2018-2020\\R35_Feb2024\\PLASec61\\2024-01-30_PLA RyR2Sec61a-488 and after a-actinin-568_cell3 deconv\\Segmented\\Masked_Cytosol_image.tif is a boolean image: setting True to 255 and False to 0. To silence this warning, please convert the image using img_as_ubyte.\n",
      "  io.imsave(Masked_image3_path, binary_cytosol_mask)\n"
     ]
    },
    {
     "name": "stdout",
     "output_type": "stream",
     "text": [
      "Masked image 4 saved in: \\\\?\\G:\\Nikon_Data_2018-2020\\R35_Feb2024\\PLASec61\\2024-01-30_PLA RyR2Sec61a-488 and after a-actinin-568_cell3 deconv\\Segmented\\Masked_Nuclei_image.tif\n"
     ]
    },
    {
     "name": "stderr",
     "output_type": "stream",
     "text": [
      "C:\\Users\\Exx\\AppData\\Local\\Temp\\ipykernel_18744\\3891615872.py:127: UserWarning: \\\\?\\G:\\Nikon_Data_2018-2020\\R35_Feb2024\\PLASec61\\2024-01-1 WT F_PLA_SercaSec61-488_Actinin-568 C3_deconv\\Segmented\\Masked_Body_image.tif is a boolean image: setting True to 255 and False to 0. To silence this warning, please convert the image using img_as_ubyte.\n",
      "  io.imsave(Masked_image1_path, binary_body_mask)\n",
      "C:\\Users\\Exx\\AppData\\Local\\Temp\\ipykernel_18744\\3891615872.py:128: UserWarning: \\\\?\\G:\\Nikon_Data_2018-2020\\R35_Feb2024\\PLASec61\\2024-01-1 WT F_PLA_SercaSec61-488_Actinin-568 C3_deconv\\Segmented\\Masked_Nuclei_image.tif is a boolean image: setting True to 255 and False to 0. To silence this warning, please convert the image using img_as_ubyte.\n",
      "  io.imsave(Masked_image2_path, binary_nuclei_mask)\n",
      "Processing Images:  50%|████████████████████████████████▌                                | 3/6 [00:30<00:22,  7.42s/it]C:\\Users\\Exx\\AppData\\Local\\Temp\\ipykernel_18744\\3891615872.py:128: UserWarning: \\\\?\\G:\\Nikon_Data_2018-2020\\R35_Feb2024\\PLASec61\\2024-01-1 WT F_PLA_SercaSec61-488_Actinin-568 C3_deconv\\Segmented\\Masked_Nuclei_image.tif is a low contrast image\n",
      "  io.imsave(Masked_image2_path, binary_nuclei_mask)\n"
     ]
    },
    {
     "name": "stdout",
     "output_type": "stream",
     "text": [
      "Masked image 5 saved in: \\\\?\\G:\\Nikon_Data_2018-2020\\R35_Feb2024\\PLASec61\\Body\\2024-01-30_PLA RyR2Sec61a-488 and after a-actinin-568_cell3 deconv.png\n"
     ]
    },
    {
     "name": "stderr",
     "output_type": "stream",
     "text": [
      "C:\\Users\\Exx\\AppData\\Local\\Temp\\ipykernel_18744\\3891615872.py:129: UserWarning: \\\\?\\G:\\Nikon_Data_2018-2020\\R35_Feb2024\\PLASec61\\2024-01-1 WT F_PLA_SercaSec61-488_Actinin-568 C3_deconv\\Segmented\\Masked_Cytosol_image.tif is a boolean image: setting True to 255 and False to 0. To silence this warning, please convert the image using img_as_ubyte.\n",
      "  io.imsave(Masked_image3_path, binary_cytosol_mask)\n"
     ]
    },
    {
     "name": "stdout",
     "output_type": "stream",
     "text": [
      "Masked image 4 saved in: \\\\?\\G:\\Nikon_Data_2018-2020\\R35_Feb2024\\PLASec61\\2024-01-1 WT F_PLA_SercaSec61-488_Actinin-568 C3_deconv\\Segmented\\Masked_Nuclei_image.tif\n"
     ]
    },
    {
     "name": "stderr",
     "output_type": "stream",
     "text": [
      "Processing Images:  67%|███████████████████████████████████████████▎                     | 4/6 [00:31<00:09,  4.88s/it]"
     ]
    },
    {
     "name": "stdout",
     "output_type": "stream",
     "text": [
      "Masked image 5 saved in: \\\\?\\G:\\Nikon_Data_2018-2020\\R35_Feb2024\\PLASec61\\Body\\2024-01-1 WT F_PLA_SercaSec61-488_Actinin-568 C3_deconv.png\n"
     ]
    },
    {
     "name": "stderr",
     "output_type": "stream",
     "text": [
      "C:\\Users\\Exx\\AppData\\Local\\Temp\\ipykernel_18744\\3891615872.py:127: UserWarning: \\\\?\\G:\\Nikon_Data_2018-2020\\R35_Feb2024\\PLASec61\\2024-01-30_PLA RyR2Sec61a-488 and after a-actinin-568 fc_cell1 deconv\\Segmented\\Masked_Body_image.tif is a boolean image: setting True to 255 and False to 0. To silence this warning, please convert the image using img_as_ubyte.\n",
      "  io.imsave(Masked_image1_path, binary_body_mask)\n",
      "C:\\Users\\Exx\\AppData\\Local\\Temp\\ipykernel_18744\\3891615872.py:128: UserWarning: \\\\?\\G:\\Nikon_Data_2018-2020\\R35_Feb2024\\PLASec61\\2024-01-30_PLA RyR2Sec61a-488 and after a-actinin-568 fc_cell1 deconv\\Segmented\\Masked_Nuclei_image.tif is a boolean image: setting True to 255 and False to 0. To silence this warning, please convert the image using img_as_ubyte.\n",
      "  io.imsave(Masked_image2_path, binary_nuclei_mask)\n",
      "C:\\Users\\Exx\\AppData\\Local\\Temp\\ipykernel_18744\\3891615872.py:128: UserWarning: \\\\?\\G:\\Nikon_Data_2018-2020\\R35_Feb2024\\PLASec61\\2024-01-30_PLA RyR2Sec61a-488 and after a-actinin-568 fc_cell1 deconv\\Segmented\\Masked_Nuclei_image.tif is a low contrast image\n",
      "  io.imsave(Masked_image2_path, binary_nuclei_mask)\n",
      "C:\\Users\\Exx\\AppData\\Local\\Temp\\ipykernel_18744\\3891615872.py:129: UserWarning: \\\\?\\G:\\Nikon_Data_2018-2020\\R35_Feb2024\\PLASec61\\2024-01-30_PLA RyR2Sec61a-488 and after a-actinin-568 fc_cell1 deconv\\Segmented\\Masked_Cytosol_image.tif is a boolean image: setting True to 255 and False to 0. To silence this warning, please convert the image using img_as_ubyte.\n",
      "  io.imsave(Masked_image3_path, binary_cytosol_mask)\n",
      "C:\\Users\\Exx\\AppData\\Local\\Temp\\ipykernel_18744\\3891615872.py:127: UserWarning: \\\\?\\G:\\Nikon_Data_2018-2020\\R35_Feb2024\\PLASec61\\2024-01-1 WT F_PLA_SercaSec61-488_Actinin-568 C1_deconv\\Segmented\\Masked_Body_image.tif is a boolean image: setting True to 255 and False to 0. To silence this warning, please convert the image using img_as_ubyte.\n",
      "  io.imsave(Masked_image1_path, binary_body_mask)\n",
      "C:\\Users\\Exx\\AppData\\Local\\Temp\\ipykernel_18744\\3891615872.py:128: UserWarning: \\\\?\\G:\\Nikon_Data_2018-2020\\R35_Feb2024\\PLASec61\\2024-01-1 WT F_PLA_SercaSec61-488_Actinin-568 C1_deconv\\Segmented\\Masked_Nuclei_image.tif is a boolean image: setting True to 255 and False to 0. To silence this warning, please convert the image using img_as_ubyte.\n",
      "  io.imsave(Masked_image2_path, binary_nuclei_mask)\n",
      "C:\\Users\\Exx\\AppData\\Local\\Temp\\ipykernel_18744\\3891615872.py:128: UserWarning: \\\\?\\G:\\Nikon_Data_2018-2020\\R35_Feb2024\\PLASec61\\2024-01-1 WT F_PLA_SercaSec61-488_Actinin-568 C1_deconv\\Segmented\\Masked_Nuclei_image.tif is a low contrast image\n",
      "  io.imsave(Masked_image2_path, binary_nuclei_mask)\n"
     ]
    },
    {
     "name": "stdout",
     "output_type": "stream",
     "text": [
      "Masked image 4 saved in: \\\\?\\G:\\Nikon_Data_2018-2020\\R35_Feb2024\\PLASec61\\2024-01-30_PLA RyR2Sec61a-488 and after a-actinin-568 fc_cell1 deconv\\Segmented\\Masked_Nuclei_image.tif\n"
     ]
    },
    {
     "name": "stderr",
     "output_type": "stream",
     "text": [
      "C:\\Users\\Exx\\AppData\\Local\\Temp\\ipykernel_18744\\3891615872.py:129: UserWarning: \\\\?\\G:\\Nikon_Data_2018-2020\\R35_Feb2024\\PLASec61\\2024-01-1 WT F_PLA_SercaSec61-488_Actinin-568 C1_deconv\\Segmented\\Masked_Cytosol_image.tif is a boolean image: setting True to 255 and False to 0. To silence this warning, please convert the image using img_as_ubyte.\n",
      "  io.imsave(Masked_image3_path, binary_cytosol_mask)\n",
      "Processing Images:  83%|██████████████████████████████████████████████████████▏          | 5/6 [00:34<00:04,  4.34s/it]"
     ]
    },
    {
     "name": "stdout",
     "output_type": "stream",
     "text": [
      "Masked image 4 saved in: \\\\?\\G:\\Nikon_Data_2018-2020\\R35_Feb2024\\PLASec61\\2024-01-1 WT F_PLA_SercaSec61-488_Actinin-568 C1_deconv\\Segmented\\Masked_Nuclei_image.tif\n",
      "Masked image 5 saved in: \\\\?\\G:\\Nikon_Data_2018-2020\\R35_Feb2024\\PLASec61\\Body\\2024-01-30_PLA RyR2Sec61a-488 and after a-actinin-568 fc_cell1 deconv.png\n"
     ]
    },
    {
     "name": "stderr",
     "output_type": "stream",
     "text": [
      "Processing Images: 100%|█████████████████████████████████████████████████████████████████| 6/6 [00:35<00:00,  5.88s/it]"
     ]
    },
    {
     "name": "stdout",
     "output_type": "stream",
     "text": [
      "Masked image 5 saved in: \\\\?\\G:\\Nikon_Data_2018-2020\\R35_Feb2024\\PLASec61\\Body\\2024-01-1 WT F_PLA_SercaSec61-488_Actinin-568 C1_deconv.png\n"
     ]
    },
    {
     "name": "stderr",
     "output_type": "stream",
     "text": [
      "\n"
     ]
    }
   ],
   "source": [
    "Nikon_segment_cell_body_PARALLEL(path_list)"
   ]
  },
  {
   "cell_type": "code",
   "execution_count": 23,
   "id": "3529e56d",
   "metadata": {},
   "outputs": [
    {
     "name": "stderr",
     "output_type": "stream",
     "text": [
      "Processing Images: 0it [00:00, ?it/s]\n"
     ]
    }
   ],
   "source": [
    "Nikon_segment_cell_body_PARALLEL(path_list_with_bad_segmentation)"
   ]
  },
  {
   "cell_type": "code",
   "execution_count": null,
   "id": "79dbc5c2-817b-4aea-8681-8e15ce829990",
   "metadata": {},
   "outputs": [],
   "source": []
  }
 ],
 "metadata": {
  "kernelspec": {
   "display_name": "Python 3 (ipykernel)",
   "language": "python",
   "name": "python3"
  },
  "language_info": {
   "codemirror_mode": {
    "name": "ipython",
    "version": 3
   },
   "file_extension": ".py",
   "mimetype": "text/x-python",
   "name": "python",
   "nbconvert_exporter": "python",
   "pygments_lexer": "ipython3",
   "version": "3.10.11"
  }
 },
 "nbformat": 4,
 "nbformat_minor": 5
}
