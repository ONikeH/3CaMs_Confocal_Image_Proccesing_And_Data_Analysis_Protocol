{
 "cells": [
  {
   "cell_type": "code",
   "execution_count": null,
   "id": "b754ce4e",
   "metadata": {},
   "outputs": [],
   "source": []
  },
  {
   "cell_type": "code",
   "execution_count": 45,
   "id": "0e6d7882",
   "metadata": {},
   "outputs": [],
   "source": [
    "'''\n",
    "Do labeling only for mRNA puncta. \n",
    "\n",
    "if imaged proteins are not looking like puncta, then labeling of these proteins more likely does not make sense\n",
    "'''\n",
    "\n",
    "\n",
    "\n",
    "# creates a list of paths (path_list) with working files\n",
    "\n",
    "import os\n",
    "\n",
    "# Create a list of paths the name of which has two variables: mNRA_Name and SubSET\n",
    "# def get_path(mNRA_Red, mRNA_Green, SubSET):\n",
    "\n",
    "def get_path():\n",
    "\n",
    "\n",
    "    input_dir = fr'\\\\?\\G:\\ISO\\4h_second_round\\Calm3'\n",
    "\n",
    "    path_list = []\n",
    "\n",
    "    # Loop through all directories and subdirectories inside the input directory\n",
    "    for root, dirs, files in os.walk(input_dir):\n",
    "        # Loop through all files in the current directory\n",
    "        for file in files:\n",
    "            # Check if the file has an _info.txt extension and starts with the folder name\n",
    "            if \"_info.txt\" in file and file.startswith(os.path.basename(root)):\n",
    "                \n",
    "                # Read the file content and convert it to lowercase\n",
    "                \n",
    "                path_list.append(root)\n",
    "\n",
    "    # Return the list of paths\n",
    "    return path_list\n"
   ]
  },
  {
   "cell_type": "code",
   "execution_count": 46,
   "id": "72f67681",
   "metadata": {},
   "outputs": [
    {
     "data": {
      "text/plain": [
       "68"
      ]
     },
     "execution_count": 46,
     "metadata": {},
     "output_type": "execute_result"
    }
   ],
   "source": [
    "# runs function get_path and saves path list as .txt file\n",
    "\n",
    "path_list = get_path()\n",
    "\n",
    "with open('path_list.txt', 'w') as file:\n",
    "    for item in path_list:\n",
    "        file.write(item + '\\n')\n",
    "        \n",
    "len(path_list)"
   ]
  },
  {
   "cell_type": "code",
   "execution_count": 47,
   "id": "a64677a0",
   "metadata": {},
   "outputs": [],
   "source": [
    "# function for parallelization that takes masked and raw images of mRNA from the path list and labels puncta\n",
    "\n",
    "\n",
    "from concurrent.futures import ThreadPoolExecutor\n",
    "from skimage import io\n",
    "import os\n",
    "import re\n",
    "import numpy as np\n",
    "from scipy import ndimage as ndi\n",
    "from skimage.segmentation import watershed\n",
    "from skimage.filters import gaussian\n",
    "from skimage.measure import label\n",
    "import tifffile\n",
    "from skimage.morphology import remove_small_objects\n",
    "from matplotlib.backends.backend_agg import FigureCanvasAgg\n",
    "from matplotlib.figure import Figure\n",
    "\n",
    "# path_list = [fr'\\\\?\\D:\\Projects\\LocProt\\Hi-Plex\\Leica\\Cell1\\aligned\\ML_test\\Analysis']\n",
    "\n",
    "def normalize_image(file_path):\n",
    "    image = tifffile.imread(file_path)\n",
    "\n",
    "    # Convert to float for processing\n",
    "    img_3d = image.astype(np.float32)  # Use float32 for memory efficiency\n",
    "\n",
    "    # Normalize each image based on its own max value\n",
    "    # max_val = img_3d.mean() * 5 # Cell Bodies\n",
    "    max_val = img_3d.max() # mRNA and Protein \n",
    "    # max_val = img_3d.max() / 2 # Nuclei \n",
    "    \n",
    "    if max_val > 0:  # Avoid division by zero\n",
    "        img_3d /= max_val\n",
    "        \n",
    "    return img_3d\n",
    "    \n",
    "def process_image(path):\n",
    "    \n",
    "    mRNA_dir = fr'\\\\?\\G:\\ISO\\4h_second_round\\Calm3\\Labeled'\n",
    "    \n",
    "    # Check if the directory exists, and create it if it does not\n",
    "    if not os.path.exists(mRNA_dir):\n",
    "        os.makedirs(mRNA_dir, exist_ok=True)\n",
    "        \n",
    "    \n",
    "    with open(os.path.join(path, os.path.basename(path) + '_info.txt'), 'r', encoding='utf-8', errors='ignore') as file:\n",
    "        content = file.read()\n",
    "\n",
    "    # # Extract channel numbers and names using regular expressions\n",
    "    # channel_numbers = list(map(int, re.findall(r'ChannelNumbers:(\\d+),(\\d+)', content)[0]))\n",
    "    # channel_names = re.findall(r'ChannelNames:(\\w+),(\\w+)', content)[0]\n",
    "    \n",
    "    # # Extract channel numbers and names using regular expressions\n",
    "    # channel_numbers = list(map(int, re.findall(r'ChannelNumbers:(\\d+),(\\d+),(\\d+)', content)[0]))\n",
    "    # channel_names = re.findall(r'ChannelNames:(\\w+),(\\w+),(\\w+)', content)[0]\n",
    "    \n",
    "    # Extract channel numbers and names using regular expressions\n",
    "    channel_numbers = list(map(int, re.findall(r'ChannelNumbers:(\\d+),(\\d+),(\\d+),(\\d+)', content)[0])) #ONLY for 3rd channel\n",
    "    channel_names = re.findall(r'ChannelNames:(\\w+),(\\w+),(\\w+),(\\w+)', content)[0] #ONLY for 3rd channel      \n",
    "\n",
    "    # Combine channel numbers and names into a dictionary\n",
    "    channel_info = dict(zip(channel_numbers, channel_names))\n",
    "\n",
    "    mask0 = channel_names[0]\n",
    "    raw0 = channel_numbers[0]\n",
    "    mask1 = channel_names[1]\n",
    "    raw1 = channel_numbers[1]\n",
    "    mask2 = channel_names[2]\n",
    "    raw2 = channel_numbers[2]\n",
    "    mask3 = channel_names[3]\n",
    "    raw3 = channel_numbers[3]\n",
    "        \n",
    "    # mRNA1_Name_SubSET_mask_path = os.path.join(path, 'Segmented', f'Masked_{mask1}_filtered_image.tif')\n",
    "    # mRNA2_Name_SubSET_mask_path = os.path.join(path, 'Segmented', f'Masked_{mask2}_filtered_image.tif') \n",
    "    # mRNA3_Name_SubSET_mask_path = os.path.join(path, 'Segmented', f'Masked_{mask3}_filtered_image.tif')        \n",
    "\n",
    "    Cytosol_SubSET_mask_path = os.path.join(path, 'Segmented', 'Masked_Cytosol_image.tif')\n",
    "    Body_SubSET_mask_path = os.path.join(path, 'Segmented', 'Masked_Body_image.tif')    \n",
    "    # raw1_image_path = os.path.join(path, os.path.basename(path) + f'_ch0{raw1}.tif')\n",
    "    # raw2_image_path = os.path.join(path, os.path.basename(path) + f'_ch0{raw2}.tif')\n",
    "    raw3_image_path = os.path.join(path, os.path.basename(path) + f'_ch0{raw3}.tif')\n",
    "\n",
    "    # raw_image1 = normalize_image(raw1_image_path)\n",
    "    # raw_image2 = normalize_image(raw2_image_path)\n",
    "    raw_image3 = normalize_image(raw3_image_path)\n",
    "\n",
    "    cytosol = tifffile.imread(Cytosol_SubSET_mask_path)\n",
    "    body = tifffile.imread(Body_SubSET_mask_path)\n",
    "    \n",
    "    # Apply a 3D Gaussian filter to the raw image\n",
    "    # smoothed_image1 = gaussian(raw_image1, sigma=1.1)\n",
    "    # smoothed_image2 = gaussian(raw_image2, sigma=0.5)\n",
    "    smoothed_image3 = gaussian(raw_image3, sigma=1.1)\n",
    "\n",
    "    # Threshold the smoothed image\n",
    "    # threshold_value1 = 0.1 * np.max(smoothed_image1)\n",
    "    # threshold_value2 = 0.1 * np.max(smoothed_image2)\n",
    "    threshold_value3 = 0.1 * np.max(smoothed_image3)\n",
    "\n",
    "    # thresholded_image1 = (smoothed_image1 > threshold_value1)\n",
    "    # thresholded_image2 = (smoothed_image2 > threshold_value2)\n",
    "    thresholded_image3 = (smoothed_image3 > threshold_value3)\n",
    "\n",
    "    # Mask out any pixels that are not part of a signal\n",
    "    # masked_image1 = thresholded_image1\n",
    "    # masked_image2 = thresholded_image2\n",
    "    masked_image3 = thresholded_image3\n",
    "\n",
    "    # remove small objects (optional)\n",
    "    min_size = 20 #in voxels\n",
    "    # masked_image1 = remove_small_objects(masked_image1, min_size=min_size)\n",
    "    # masked_image2 = remove_small_objects(masked_image2, min_size=min_size)\n",
    "    masked_image3 = remove_small_objects(masked_image3, min_size=min_size)\n",
    "\n",
    "    # filtered_masked_image1 = body * masked_image1\n",
    "    # filtered_masked_image2 = body * masked_image2\n",
    "    filtered_masked_image3 = body * masked_image3\n",
    "    \n",
    "    # masked_image1 = cytosol * masked_image1\n",
    "    # masked_image2 = cytosol * masked_image2\n",
    "    masked_image3 = cytosol * masked_image3\n",
    "    \n",
    "    # Compute the distance transform\n",
    "    # distance1 = ndi.distance_transform_edt(masked_image1)\n",
    "    # distance2 = ndi.distance_transform_edt(masked_image2)\n",
    "    distance3 = ndi.distance_transform_edt(masked_image3)\n",
    "\n",
    "    # Find the local maxima in the distance map\n",
    "    # local_maxi1 = ndi.maximum_filter(distance1, size=5) == distance1\n",
    "    # local_maxi2 = ndi.maximum_filter(distance2, size=5) == distance2\n",
    "    local_maxi3 = ndi.maximum_filter(distance3, size=5) == distance3\n",
    "\n",
    "    # Label each local maximum with a unique label\n",
    "    # markers1 = label(local_maxi1)\n",
    "    # markers2 = label(local_maxi2)\n",
    "    markers3 = label(local_maxi3)\n",
    "\n",
    "    # Apply the watershed algorithm to segment the signals\n",
    "    # labeled_image1 = watershed(-distance1, markers1, mask=masked_image1)\n",
    "    # labeled_image2 = watershed(-distance2, markers2, mask=masked_image2)\n",
    "    labeled_image3 = watershed(-distance3, markers3, mask=masked_image3)\n",
    "\n",
    "    directory_name = 'Segmented'\n",
    "    segmented_dir_path = os.path.join(path, directory_name)\n",
    "\n",
    "    # Add these lines\n",
    "    if not os.path.exists(segmented_dir_path):\n",
    "        os.makedirs(segmented_dir_path)\n",
    "\n",
    "    #saves the segmented images in the same directory the processed images are\n",
    "    # Labeled_mrna1_path = os.path.join(segmented_dir_path, f'Labeled_{mask1}.tif')\n",
    "    # Masked_mrna1_path = os.path.join(segmented_dir_path, f'Masked_{mask1}_filtered.tif')\n",
    "    # Labeled_mrna2_path = os.path.join(segmented_dir_path, f'Labeled_{mask2}.tif')\n",
    "    # Masked_mrna2_path = os.path.join(segmented_dir_path, f'Masked_{mask2}_filtered.tif')\n",
    "    Labeled_mrna3_path = os.path.join(segmented_dir_path, f'Labeled_{mask3}.tif')\n",
    "    Masked_mrna3_path = os.path.join(segmented_dir_path, f'Masked_{mask3}_filtered.tif')\n",
    "        \n",
    "    # io.imsave(Labeled_mrna1_path, labeled_image1.astype('uint16'))\n",
    "    # io.imsave(Masked_mrna1_path, filtered_masked_image1)\n",
    "    # io.imsave(Labeled_mrna2_path, labeled_image2.astype('uint16'))\n",
    "    # io.imsave(Masked_mrna2_path, filtered_masked_image2)\n",
    "    io.imsave(Labeled_mrna3_path, labeled_image3.astype('uint16'))\n",
    "    io.imsave(Masked_mrna3_path, filtered_masked_image3)\n",
    "    \n",
    "    # print(f\"Labeled image 1 saved in: {os.path.abspath(Labeled_mrna1_path)}\")\n",
    "    # print(f\"Labeled image 2 saved in: {os.path.abspath(Labeled_mrna2_path)}\")\n",
    "    print(f\"Labeled image 3 saved in: {os.path.abspath(Labeled_mrna3_path)}\")\n",
    "\n",
    "    # three channels. Change parameters accordingly\n",
    "    # plot_titles = [ f'Raw {mask1} {raw_image1.shape[1]}', f'Binary {mask1} {raw_image1.shape[1]}', f'filtered {mask1} {raw_image1.shape[1]}', f'Raw {mask2}', f'Binary {mask2}', f'filtered {mask2}', f'Raw {mask3}', f'Binary {mask3}', f'filtered {mask3}']\n",
    "    # images = [np.max(raw_image1, axis=0), np.max(filtered_masked_image1, axis=0), np.max(labeled_image1, axis=0), np.max(raw_image2, axis=0), np.max(filtered_masked_image2, axis=0), np.max(labeled_image2, axis=0), np.max(raw_image3, axis=0), np.max(filtered_masked_image3, axis=0), np.max(labeled_image3, axis=0)]\n",
    "\n",
    "    # Two channels. Change parameters accordingly\n",
    "    # plot_titles = [ f'Raw {mask1} {raw_image1.shape[1]}', f'Binary {mask1} {raw_image1.shape[1]}', f'filtered {mask2} {raw_image2.shape[1]}', f'Raw {mask2}', f'Binary {mask2}', f'filtered {mask2}']\n",
    "    # images = [np.max(raw_image1, axis=0), np.max(filtered_masked_image1, axis=0), np.max(labeled_image1, axis=0), np.max(raw_image2, axis=0), np.max(filtered_masked_image2, axis=0), np.max(labeled_image2, axis=0)]\n",
    "\n",
    "    # one channel. Change parameters accordingly\n",
    "    plot_titles = [ f'Raw {mask3} {raw_image3.shape[1]}', f'filtered {mask3} {raw_image3.shape[1]}', f'Labeled {mask3} {raw_image3.shape[1]}']\n",
    "    images = [np.max(raw_image3, axis=0), np.max(filtered_masked_image3, axis=0), np.max(labeled_image3, axis=0)]\n",
    "        \n",
    "    # Create a new figure and set the size\n",
    "    fig = Figure(figsize=(10, 10))\n",
    "    canvas = FigureCanvasAgg(fig)\n",
    "\n",
    "    # Iterate through the images and add them as subplots\n",
    "    for i, (image, title) in enumerate(zip(images, plot_titles)):\n",
    "#             ax = fig.add_subplot(1, 1, i+1)\n",
    "        ax = fig.add_subplot(3, 3, i+1)\n",
    "        ax.imshow(image)\n",
    "        ax.set_title(title)\n",
    "        ax.axis('off')\n",
    "\n",
    "    # Adjust the layout automatically\n",
    "    fig.tight_layout()\n",
    "\n",
    "    mRNA_path = os.path.join(mRNA_dir, os.path.basename(path) + '.png')\n",
    "\n",
    "    # Save the plot as a PNG file with 300 DPI\n",
    "    canvas.print_figure(mRNA_path, dpi=300)\n",
    "\n",
    "    return"
   ]
  },
  {
   "cell_type": "code",
   "execution_count": 48,
   "id": "a6333ed9",
   "metadata": {},
   "outputs": [],
   "source": [
    "# function of parallelization of process_image() function\n",
    "\n",
    "from concurrent.futures import ThreadPoolExecutor, as_completed\n",
    "from tqdm import tqdm\n",
    "\n",
    "def label_puncta_parallel(path_list):\n",
    "    with ThreadPoolExecutor(max_workers=32) as executor: # specify the number of cpu cores you want to use\n",
    "        futures = {executor.submit(process_image, path): path for path in path_list}\n",
    "\n",
    "        for future in tqdm(as_completed(futures), total=len(path_list), desc=\"Processing Images\"):\n",
    "            pass\n"
   ]
  },
  {
   "cell_type": "code",
   "execution_count": 49,
   "id": "57073d9d-cccc-41bb-b4f0-d5dc8932bcce",
   "metadata": {},
   "outputs": [
    {
     "name": "stdout",
     "output_type": "stream",
     "text": [
      "0\n"
     ]
    }
   ],
   "source": [
    "# this code creates paths to the folders where the segmentation was bad\n",
    "\n",
    "import os\n",
    "\n",
    "def get_paths_from_png_files_with_bad_segmentation():\n",
    "    input_dir =  fr'\\\\?\\G:\\ISO\\4h_second_round\\Calm3\\Again'\n",
    "\n",
    "    # Check if the directory exists, and create it if it does not\n",
    "    if not os.path.exists(input_dir):\n",
    "        os.makedirs(input_dir, exist_ok=True)\n",
    "        \n",
    "    path_list = []\n",
    "\n",
    "    for root, dirs, files in os.walk(input_dir):\n",
    "        for file in files:\n",
    "            if \".png\" in file:\n",
    "                # Remove the '.png' extension and the word 'Again' from the path\n",
    "                modified_root = root.replace(\"Again\", \"\")\n",
    "                file_without_extension = os.path.splitext(file)[0]\n",
    "                # Add the 'fr' prefix to the path when appending to path_list\n",
    "                path_list.append(fr\"{modified_root}{file_without_extension}\")\n",
    "\n",
    "    return path_list\n",
    "\n",
    "# Get the path list with 'fr' prefix\n",
    "path_list_with_bad_segmentation = get_paths_from_png_files_with_bad_segmentation()\n",
    "\n",
    "# Print the path list to verify\n",
    "for path in path_list_with_bad_segmentation:\n",
    "    print(path)\n",
    "print(len(path_list_with_bad_segmentation))"
   ]
  },
  {
   "cell_type": "code",
   "execution_count": 50,
   "id": "edd3ba41",
   "metadata": {},
   "outputs": [
    {
     "data": {
      "text/plain": [
       "68"
      ]
     },
     "execution_count": 50,
     "metadata": {},
     "output_type": "execute_result"
    }
   ],
   "source": [
    "len(path_list)"
   ]
  },
  {
   "cell_type": "code",
   "execution_count": 51,
   "id": "e2070bd5-0b2f-4d28-a36c-6980ce2ffe3a",
   "metadata": {},
   "outputs": [
    {
     "data": {
      "text/plain": [
       "0"
      ]
     },
     "execution_count": 51,
     "metadata": {},
     "output_type": "execute_result"
    }
   ],
   "source": [
    "len(path_list_with_bad_segmentation)"
   ]
  },
  {
   "cell_type": "code",
   "execution_count": 52,
   "id": "46cce7ed",
   "metadata": {},
   "outputs": [
    {
     "name": "stderr",
     "output_type": "stream",
     "text": [
      "Processing Images:   0%|                                                                        | 0/68 [00:00<?, ?it/s]C:\\Users\\Exx\\AppData\\Local\\Temp\\ipykernel_2228\\3972601648.py:161: UserWarning: \\\\?\\G:\\ISO\\4h_second_round\\Calm3\\2023-09-26_C57BL6_M_ISO-4h_Cacna1c-488_NCad-568_Calm3-647_c7_deconv\\Segmented\\Labeled_Calm3.tif is a low contrast image\n",
      "  io.imsave(Labeled_mrna3_path, labeled_image3.astype('uint16'))\n"
     ]
    },
    {
     "name": "stdout",
     "output_type": "stream",
     "text": [
      "Labeled image 3 saved in: \\\\?\\G:\\ISO\\4h_second_round\\Calm3\\2023-09-26_C57BL6_M_ISO-4h_Cacna1c-488_NCad-568_Calm3-647_c7_deconv\\Segmented\\Labeled_Calm3.tif\n"
     ]
    },
    {
     "name": "stderr",
     "output_type": "stream",
     "text": [
      "C:\\Users\\Exx\\AppData\\Local\\Temp\\ipykernel_2228\\3972601648.py:161: UserWarning: \\\\?\\G:\\ISO\\4h_second_round\\Calm3\\2023-09-26_C57BL6_M_ISO-4h_Cacna1c-488_NCad-568_Calm3-647_c3_deconv\\Segmented\\Labeled_Calm3.tif is a low contrast image\n",
      "  io.imsave(Labeled_mrna3_path, labeled_image3.astype('uint16'))\n",
      "C:\\Users\\Exx\\AppData\\Local\\Temp\\ipykernel_2228\\3972601648.py:161: UserWarning: \\\\?\\G:\\ISO\\4h_second_round\\Calm3\\2023-09-26_C57BL6_M_ISO-4h_Scn5a-488_NCad-568_Calm3-647_c9_deconv\\Segmented\\Labeled_Calm3.tif is a low contrast image\n",
      "  io.imsave(Labeled_mrna3_path, labeled_image3.astype('uint16'))\n",
      "C:\\Users\\Exx\\AppData\\Local\\Temp\\ipykernel_2228\\3972601648.py:161: UserWarning: \\\\?\\G:\\ISO\\4h_second_round\\Calm3\\2023-09-26_C57BL6_M_ISO-4h_Cacna1c-488_NCad-568_Calm3-647_c6_deconv\\Segmented\\Labeled_Calm3.tif is a low contrast image\n",
      "  io.imsave(Labeled_mrna3_path, labeled_image3.astype('uint16'))\n",
      "C:\\Users\\Exx\\AppData\\Local\\Temp\\ipykernel_2228\\3972601648.py:161: UserWarning: \\\\?\\G:\\ISO\\4h_second_round\\Calm3\\2023-09-26_C57BL6_M_ISO-4h_Scn5a-488_NCad-568_Calm3-647_c7_deconv\\Segmented\\Labeled_Calm3.tif is a low contrast image\n",
      "  io.imsave(Labeled_mrna3_path, labeled_image3.astype('uint16'))\n",
      "C:\\Users\\Exx\\AppData\\Local\\Temp\\ipykernel_2228\\3972601648.py:161: UserWarning: \\\\?\\G:\\ISO\\4h_second_round\\Calm3\\2023-09-26_C57BL6_M_ISO-4h_Scn5a-488_NCad-568_Calm3-647_c4_deconv\\Segmented\\Labeled_Calm3.tif is a low contrast image\n",
      "  io.imsave(Labeled_mrna3_path, labeled_image3.astype('uint16'))\n",
      "C:\\Users\\Exx\\AppData\\Local\\Temp\\ipykernel_2228\\3972601648.py:161: UserWarning: \\\\?\\G:\\ISO\\4h_second_round\\Calm3\\2023-09-26_C57BL6_M_ISO-5h_Cacna1c-488_NCad-568_Calm3-647_c4_deconv\\Segmented\\Labeled_Calm3.tif is a low contrast image\n",
      "  io.imsave(Labeled_mrna3_path, labeled_image3.astype('uint16'))\n",
      "C:\\Users\\Exx\\AppData\\Local\\Temp\\ipykernel_2228\\3972601648.py:161: UserWarning: \\\\?\\G:\\ISO\\4h_second_round\\Calm3\\2023-09-26_C57BL6_M_ISO-5h_Cacna1c-488_NCad-568_Calm3-647_c5_deconv\\Segmented\\Labeled_Calm3.tif is a low contrast image\n",
      "  io.imsave(Labeled_mrna3_path, labeled_image3.astype('uint16'))\n",
      "C:\\Users\\Exx\\AppData\\Local\\Temp\\ipykernel_2228\\3972601648.py:161: UserWarning: \\\\?\\G:\\ISO\\4h_second_round\\Calm3\\2023-09-26_C57BL6_M_ISO-4h_Cacna1c-488_NCad-568_Calm3-647_c2001_deconv\\Segmented\\Labeled_Calm3.tif is a low contrast image\n",
      "  io.imsave(Labeled_mrna3_path, labeled_image3.astype('uint16'))\n",
      "C:\\Users\\Exx\\AppData\\Local\\Temp\\ipykernel_2228\\3972601648.py:161: UserWarning: \\\\?\\G:\\ISO\\4h_second_round\\Calm3\\2023-09-26_C57BL6_M_ISO-4h_Scn5a-488_NCad-568_Calm3-647_c6_deconv\\Segmented\\Labeled_Calm3.tif is a low contrast image\n",
      "  io.imsave(Labeled_mrna3_path, labeled_image3.astype('uint16'))\n",
      "C:\\Users\\Exx\\AppData\\Local\\Temp\\ipykernel_2228\\3972601648.py:161: UserWarning: \\\\?\\G:\\ISO\\4h_second_round\\Calm3\\2023-09-26_C57BL6_M_ISO-4h_Cacna1c-488_NCad-568_Calm3-647_c4_deconv\\Segmented\\Labeled_Calm3.tif is a low contrast image\n",
      "  io.imsave(Labeled_mrna3_path, labeled_image3.astype('uint16'))\n",
      "Processing Images:   1%|▉                                                             | 1/68 [01:15<1:24:00, 75.23s/it]C:\\Users\\Exx\\AppData\\Local\\Temp\\ipykernel_2228\\3972601648.py:161: UserWarning: \\\\?\\G:\\ISO\\4h_second_round\\Calm3\\2023-09-26_C57BL6_M_ISO-5h_Cacna1c-488_NCad-568_Calm3-647_c8_deconv\\Segmented\\Labeled_Calm3.tif is a low contrast image\n",
      "  io.imsave(Labeled_mrna3_path, labeled_image3.astype('uint16'))\n",
      "C:\\Users\\Exx\\AppData\\Local\\Temp\\ipykernel_2228\\3972601648.py:161: UserWarning: \\\\?\\G:\\ISO\\4h_second_round\\Calm3\\2023-09-26_C57BL6_M_ISO-4h_Scn5a-488_NCad-568_Calm3-647_c2_deconv\\Segmented\\Labeled_Calm3.tif is a low contrast image\n",
      "  io.imsave(Labeled_mrna3_path, labeled_image3.astype('uint16'))\n",
      "C:\\Users\\Exx\\AppData\\Local\\Temp\\ipykernel_2228\\3972601648.py:161: UserWarning: \\\\?\\G:\\ISO\\4h_second_round\\Calm3\\2023-09-26_C57BL6_M_ISO-5h_Cacna1c-488_NCad-568_Calm3-647_c2_deconv\\Segmented\\Labeled_Calm3.tif is a low contrast image\n",
      "  io.imsave(Labeled_mrna3_path, labeled_image3.astype('uint16'))\n",
      "C:\\Users\\Exx\\AppData\\Local\\Temp\\ipykernel_2228\\3972601648.py:161: UserWarning: \\\\?\\G:\\ISO\\4h_second_round\\Calm3\\2023-09-26_C57BL6_M_ISO-5h_Cacna1c-488_NCad-568_Calm3-647_c1_deconv\\Segmented\\Labeled_Calm3.tif is a low contrast image\n",
      "  io.imsave(Labeled_mrna3_path, labeled_image3.astype('uint16'))\n",
      "C:\\Users\\Exx\\AppData\\Local\\Temp\\ipykernel_2228\\3972601648.py:161: UserWarning: \\\\?\\G:\\ISO\\4h_second_round\\Calm3\\2023-09-26_C57BL6_M_ISO-4h_Scn5a-488_NCad-568_Calm3-647_c8_deconv\\Segmented\\Labeled_Calm3.tif is a low contrast image\n",
      "  io.imsave(Labeled_mrna3_path, labeled_image3.astype('uint16'))\n",
      "C:\\Users\\Exx\\AppData\\Local\\Temp\\ipykernel_2228\\3972601648.py:161: UserWarning: \\\\?\\G:\\ISO\\4h_second_round\\Calm3\\2023-09-26_C57BL6_M_ISO-5h_Cacna1c-488_NCad-568_Calm3-647_c3_deconv\\Segmented\\Labeled_Calm3.tif is a low contrast image\n",
      "  io.imsave(Labeled_mrna3_path, labeled_image3.astype('uint16'))\n",
      "C:\\Users\\Exx\\AppData\\Local\\Temp\\ipykernel_2228\\3972601648.py:161: UserWarning: \\\\?\\G:\\ISO\\4h_second_round\\Calm3\\2023-09-26_C57BL6_M_ISO-4h_Camk2d-488_NCad-568_Calm3-647_c6_deconv\\Segmented\\Labeled_Calm3.tif is a low contrast image\n",
      "  io.imsave(Labeled_mrna3_path, labeled_image3.astype('uint16'))\n",
      "C:\\Users\\Exx\\AppData\\Local\\Temp\\ipykernel_2228\\3972601648.py:161: UserWarning: \\\\?\\G:\\ISO\\4h_second_round\\Calm3\\2023-09-26_C57BL6_M_ISO-4h_Cacna1c-488_NCad-568_Calm3-647_c8_deconv\\Segmented\\Labeled_Calm3.tif is a low contrast image\n",
      "  io.imsave(Labeled_mrna3_path, labeled_image3.astype('uint16'))\n",
      "C:\\Users\\Exx\\AppData\\Local\\Temp\\ipykernel_2228\\3972601648.py:161: UserWarning: \\\\?\\G:\\ISO\\4h_second_round\\Calm3\\2023-09-26_C57BL6_M_ISO-5h_Cacna1c-488_NCad-568_Calm3-647_c6_deconv\\Segmented\\Labeled_Calm3.tif is a low contrast image\n",
      "  io.imsave(Labeled_mrna3_path, labeled_image3.astype('uint16'))\n",
      "C:\\Users\\Exx\\AppData\\Local\\Temp\\ipykernel_2228\\3972601648.py:161: UserWarning: \\\\?\\G:\\ISO\\4h_second_round\\Calm3\\2023-09-26_C57BL6_M_ISO-4h_Camk2d-488_NCad-568_Calm3-647_c8_deconv\\Segmented\\Labeled_Calm3.tif is a low contrast image\n",
      "  io.imsave(Labeled_mrna3_path, labeled_image3.astype('uint16'))\n",
      "C:\\Users\\Exx\\AppData\\Local\\Temp\\ipykernel_2228\\3972601648.py:161: UserWarning: \\\\?\\G:\\ISO\\4h_second_round\\Calm3\\2023-09-26_C57BL6_M_ISO-4h_Scn5a-488_NCad-568_Calm3-647_c5_deconv\\Segmented\\Labeled_Calm3.tif is a low contrast image\n",
      "  io.imsave(Labeled_mrna3_path, labeled_image3.astype('uint16'))\n",
      "C:\\Users\\Exx\\AppData\\Local\\Temp\\ipykernel_2228\\3972601648.py:161: UserWarning: \\\\?\\G:\\ISO\\4h_second_round\\Calm3\\2023-09-26_C57BL6_M_ISO-4h_Camk2d-488_NCad-568_Calm3-647_c3_deconv\\Segmented\\Labeled_Calm3.tif is a low contrast image\n",
      "  io.imsave(Labeled_mrna3_path, labeled_image3.astype('uint16'))\n",
      "C:\\Users\\Exx\\AppData\\Local\\Temp\\ipykernel_2228\\3972601648.py:161: UserWarning: \\\\?\\G:\\ISO\\4h_second_round\\Calm3\\2023-09-26_C57BL6_M_ISO-4h_Camk2d-488_NCad-568_Calm3-647_c1_deconv\\Segmented\\Labeled_Calm3.tif is a low contrast image\n",
      "  io.imsave(Labeled_mrna3_path, labeled_image3.astype('uint16'))\n",
      "C:\\Users\\Exx\\AppData\\Local\\Temp\\ipykernel_2228\\3972601648.py:161: UserWarning: \\\\?\\G:\\ISO\\4h_second_round\\Calm3\\2023-09-26_C57BL6_M_ISO-5h_Cacna1c-488_NCad-568_Calm3-647_c7_deconv\\Segmented\\Labeled_Calm3.tif is a low contrast image\n",
      "  io.imsave(Labeled_mrna3_path, labeled_image3.astype('uint16'))\n"
     ]
    },
    {
     "name": "stdout",
     "output_type": "stream",
     "text": [
      "Labeled image 3 saved in: \\\\?\\G:\\ISO\\4h_second_round\\Calm3\\2023-09-26_C57BL6_M_ISO-4h_Cacna1c-488_NCad-568_Calm3-647_c3_deconv\\Segmented\\Labeled_Calm3.tif\n"
     ]
    },
    {
     "name": "stderr",
     "output_type": "stream",
     "text": [
      "C:\\Users\\Exx\\AppData\\Local\\Temp\\ipykernel_2228\\3972601648.py:161: UserWarning: \\\\?\\G:\\ISO\\4h_second_round\\Calm3\\2023-09-26_C57BL6_M_ISO-4h_Camk2d-488_NCad-568_Calm3-647_c4_deconv\\Segmented\\Labeled_Calm3.tif is a low contrast image\n",
      "  io.imsave(Labeled_mrna3_path, labeled_image3.astype('uint16'))\n",
      "C:\\Users\\Exx\\AppData\\Local\\Temp\\ipykernel_2228\\3972601648.py:161: UserWarning: \\\\?\\G:\\ISO\\4h_second_round\\Calm3\\2023-09-26_C57BL6_M_ISO-4h_Scn5a-488_NCad-568_Calm3-647_c3_deconv\\Segmented\\Labeled_Calm3.tif is a low contrast image\n",
      "  io.imsave(Labeled_mrna3_path, labeled_image3.astype('uint16'))\n",
      "C:\\Users\\Exx\\AppData\\Local\\Temp\\ipykernel_2228\\3972601648.py:161: UserWarning: \\\\?\\G:\\ISO\\4h_second_round\\Calm3\\2023-09-26_C57BL6_M_ISO-4h_Camk2d-488_NCad-568_Calm3-647_c5_deconv\\Segmented\\Labeled_Calm3.tif is a low contrast image\n",
      "  io.imsave(Labeled_mrna3_path, labeled_image3.astype('uint16'))\n",
      "Processing Images:   3%|█▉                                                              | 2/68 [01:18<36:19, 33.02s/it]"
     ]
    },
    {
     "name": "stdout",
     "output_type": "stream",
     "text": [
      "Labeled image 3 saved in: \\\\?\\G:\\ISO\\4h_second_round\\Calm3\\2023-09-26_C57BL6_M_ISO-4h_Cacna1c-488_NCad-568_Calm3-647_c6_deconv\\Segmented\\Labeled_Calm3.tif\n"
     ]
    },
    {
     "name": "stderr",
     "output_type": "stream",
     "text": [
      "C:\\Users\\Exx\\AppData\\Local\\Temp\\ipykernel_2228\\3972601648.py:161: UserWarning: \\\\?\\G:\\ISO\\4h_second_round\\Calm3\\2023-09-26_C57BL6_M_ISO-4h_Camk2d-488_NCad-568_Calm3-647_c7_deconv\\Segmented\\Labeled_Calm3.tif is a low contrast image\n",
      "  io.imsave(Labeled_mrna3_path, labeled_image3.astype('uint16'))\n",
      "C:\\Users\\Exx\\AppData\\Local\\Temp\\ipykernel_2228\\3972601648.py:161: UserWarning: \\\\?\\G:\\ISO\\4h_second_round\\Calm3\\2023-09-26_C57BL6_M_ISO-5h_Camk2d-488_NCad-568_Calm3-647_c1_deconv\\Segmented\\Labeled_Calm3.tif is a low contrast image\n",
      "  io.imsave(Labeled_mrna3_path, labeled_image3.astype('uint16'))\n",
      "Processing Images:   4%|██▊                                                             | 3/68 [01:20<20:32, 18.97s/it]C:\\Users\\Exx\\AppData\\Local\\Temp\\ipykernel_2228\\3972601648.py:161: UserWarning: \\\\?\\G:\\ISO\\4h_second_round\\Calm3\\2023-09-26_C57BL6_M_ISO-5h_Camk2d-488_NCad-568_Calm3-647_c2_deconv\\Segmented\\Labeled_Calm3.tif is a low contrast image\n",
      "  io.imsave(Labeled_mrna3_path, labeled_image3.astype('uint16'))\n",
      "C:\\Users\\Exx\\AppData\\Local\\Temp\\ipykernel_2228\\3972601648.py:161: UserWarning: \\\\?\\G:\\ISO\\4h_second_round\\Calm3\\2023-09-26_C57BL6_M_ISO-5h_Camk2d-488_NCad-568_Calm3-647_c3_deconv\\Segmented\\Labeled_Calm3.tif is a low contrast image\n",
      "  io.imsave(Labeled_mrna3_path, labeled_image3.astype('uint16'))\n"
     ]
    },
    {
     "name": "stdout",
     "output_type": "stream",
     "text": [
      "Labeled image 3 saved in: \\\\?\\G:\\ISO\\4h_second_round\\Calm3\\2023-09-26_C57BL6_M_ISO-4h_Cacna1c-488_NCad-568_Calm3-647_c4_deconv\\Segmented\\Labeled_Calm3.tif\n",
      "Labeled image 3 saved in: \\\\?\\G:\\ISO\\4h_second_round\\Calm3\\2023-09-26_C57BL6_M_ISO-5h_Cacna1c-488_NCad-568_Calm3-647_c4_deconv\\Segmented\\Labeled_Calm3.tif\n",
      "Labeled image 3 saved in: \\\\?\\G:\\ISO\\4h_second_round\\Calm3\\2023-09-26_C57BL6_M_ISO-4h_Scn5a-488_NCad-568_Calm3-647_c9_deconv\\Segmented\\Labeled_Calm3.tif\n",
      "Labeled image 3 saved in: \\\\?\\G:\\ISO\\4h_second_round\\Calm3\\2023-09-26_C57BL6_M_ISO-4h_Scn5a-488_NCad-568_Calm3-647_c7_deconv\\Segmented\\Labeled_Calm3.tif\n",
      "Labeled image 3 saved in: \\\\?\\G:\\ISO\\4h_second_round\\Calm3\\2023-09-26_C57BL6_M_ISO-4h_Cacna1c-488_NCad-568_Calm3-647_c2001_deconv\\Segmented\\Labeled_Calm3.tif\n"
     ]
    },
    {
     "name": "stderr",
     "output_type": "stream",
     "text": [
      "Processing Images:   6%|███▊                                                            | 4/68 [01:24<13:51, 12.99s/it]"
     ]
    },
    {
     "name": "stdout",
     "output_type": "stream",
     "text": [
      "Labeled image 3 saved in: \\\\?\\G:\\ISO\\4h_second_round\\Calm3\\2023-09-26_C57BL6_M_ISO-5h_Cacna1c-488_NCad-568_Calm3-647_c5_deconv\\Segmented\\Labeled_Calm3.tif\n"
     ]
    },
    {
     "name": "stderr",
     "output_type": "stream",
     "text": [
      "Processing Images:   7%|████▋                                                           | 5/68 [01:24<08:47,  8.38s/it]"
     ]
    },
    {
     "name": "stdout",
     "output_type": "stream",
     "text": [
      "Labeled image 3 saved in: \\\\?\\G:\\ISO\\4h_second_round\\Calm3\\2023-09-26_C57BL6_M_ISO-4h_Scn5a-488_NCad-568_Calm3-647_c4_deconv\\Segmented\\Labeled_Calm3.tif\n"
     ]
    },
    {
     "name": "stderr",
     "output_type": "stream",
     "text": [
      "Processing Images:  12%|███████▌                                                        | 8/68 [01:29<03:57,  3.96s/it]C:\\Users\\Exx\\AppData\\Local\\Temp\\ipykernel_2228\\3972601648.py:161: UserWarning: \\\\?\\G:\\ISO\\4h_second_round\\Calm3\\2023-09-26_C57BL6_M_ISO-5h_Camk2d-488_NCad-568_Calm3-647_c5_deconv\\Segmented\\Labeled_Calm3.tif is a low contrast image\n",
      "  io.imsave(Labeled_mrna3_path, labeled_image3.astype('uint16'))\n"
     ]
    },
    {
     "name": "stdout",
     "output_type": "stream",
     "text": [
      "Labeled image 3 saved in: \\\\?\\G:\\ISO\\4h_second_round\\Calm3\\2023-09-26_C57BL6_M_ISO-4h_Scn5a-488_NCad-568_Calm3-647_c6_deconv\\Segmented\\Labeled_Calm3.tif\n",
      "Labeled image 3 saved in: \\\\?\\G:\\ISO\\4h_second_round\\Calm3\\2023-09-26_C57BL6_M_ISO-5h_Cacna1c-488_NCad-568_Calm3-647_c8_deconv\\Segmented\\Labeled_Calm3.tif\n",
      "Labeled image 3 saved in: \\\\?\\G:\\ISO\\4h_second_round\\Calm3\\2023-09-26_C57BL6_M_ISO-4h_Cacna1c-488_NCad-568_Calm3-647_c8_deconv\\Segmented\\Labeled_Calm3.tif\n"
     ]
    },
    {
     "name": "stderr",
     "output_type": "stream",
     "text": [
      "C:\\Users\\Exx\\AppData\\Local\\Temp\\ipykernel_2228\\3972601648.py:161: UserWarning: \\\\?\\G:\\ISO\\4h_second_round\\Calm3\\2023-09-26_C57BL6_M_ISO-5h_Camk2d-488_NCad-568_Calm3-647_c6_deconv\\Segmented\\Labeled_Calm3.tif is a low contrast image\n",
      "  io.imsave(Labeled_mrna3_path, labeled_image3.astype('uint16'))\n"
     ]
    },
    {
     "name": "stdout",
     "output_type": "stream",
     "text": [
      "Labeled image 3 saved in: \\\\?\\G:\\ISO\\4h_second_round\\Calm3\\2023-09-26_C57BL6_M_ISO-4h_Camk2d-488_NCad-568_Calm3-647_c6_deconv\\Segmented\\Labeled_Calm3.tif\n"
     ]
    },
    {
     "name": "stderr",
     "output_type": "stream",
     "text": [
      "Processing Images:  18%|███████████                                                    | 12/68 [01:40<02:48,  3.02s/it]"
     ]
    },
    {
     "name": "stdout",
     "output_type": "stream",
     "text": [
      "Labeled image 3 saved in: \\\\?\\G:\\ISO\\4h_second_round\\Calm3\\2023-09-26_C57BL6_M_ISO-4h_Camk2d-488_NCad-568_Calm3-647_c8_deconv\\Segmented\\Labeled_Calm3.tif\n",
      "Labeled image 3 saved in: \\\\?\\G:\\ISO\\4h_second_round\\Calm3\\2023-09-26_C57BL6_M_ISO-5h_Cacna1c-488_NCad-568_Calm3-647_c2_deconv\\Segmented\\Labeled_Calm3.tif\n",
      "Labeled image 3 saved in: \\\\?\\G:\\ISO\\4h_second_round\\Calm3\\2023-09-26_C57BL6_M_ISO-5h_Cacna1c-488_NCad-568_Calm3-647_c3_deconv\\Segmented\\Labeled_Calm3.tif\n",
      "Labeled image 3 saved in: \\\\?\\G:\\ISO\\4h_second_round\\Calm3\\2023-09-26_C57BL6_M_ISO-4h_Camk2d-488_NCad-568_Calm3-647_c5_deconv\\Segmented\\Labeled_Calm3.tif\n"
     ]
    },
    {
     "name": "stderr",
     "output_type": "stream",
     "text": [
      "C:\\Users\\Exx\\AppData\\Local\\Temp\\ipykernel_2228\\3972601648.py:161: UserWarning: \\\\?\\G:\\ISO\\4h_second_round\\Calm3\\2023-09-26_C57BL6_M_ISO-5h_Camk2d-488_NCad-568_Calm3-647_c4_deconv\\Segmented\\Labeled_Calm3.tif is a low contrast image\n",
      "  io.imsave(Labeled_mrna3_path, labeled_image3.astype('uint16'))\n"
     ]
    },
    {
     "name": "stdout",
     "output_type": "stream",
     "text": [
      "Labeled image 3 saved in: \\\\?\\G:\\ISO\\4h_second_round\\Calm3\\2023-09-26_C57BL6_M_ISO-4h_Camk2d-488_NCad-568_Calm3-647_c1_deconv\\Segmented\\Labeled_Calm3.tif\n"
     ]
    },
    {
     "name": "stderr",
     "output_type": "stream",
     "text": [
      "Processing Images:  28%|█████████████████▌                                             | 19/68 [01:46<00:46,  1.06it/s]"
     ]
    },
    {
     "name": "stdout",
     "output_type": "stream",
     "text": [
      "Labeled image 3 saved in: \\\\?\\G:\\ISO\\4h_second_round\\Calm3\\2023-09-26_C57BL6_M_ISO-4h_Scn5a-488_NCad-568_Calm3-647_c8_deconv\\Segmented\\Labeled_Calm3.tif\n"
     ]
    },
    {
     "name": "stderr",
     "output_type": "stream",
     "text": [
      "C:\\Users\\Exx\\AppData\\Local\\Temp\\ipykernel_2228\\3972601648.py:161: UserWarning: \\\\?\\G:\\ISO\\4h_second_round\\Calm3\\2023-09-26_C57BL6_M_ISO-5h_Scn5a-488_NCad-568_Calm3-647_c2_deconv\\Segmented\\Labeled_Calm3.tif is a low contrast image\n",
      "  io.imsave(Labeled_mrna3_path, labeled_image3.astype('uint16'))\n",
      "C:\\Users\\Exx\\AppData\\Local\\Temp\\ipykernel_2228\\3972601648.py:161: UserWarning: \\\\?\\G:\\ISO\\4h_second_round\\Calm3\\2023-09-26_C57BL6_M_ISO-5h_Camk2d-488_NCad-568_Calm3-647_c8_deconv\\Segmented\\Labeled_Calm3.tif is a low contrast image\n",
      "  io.imsave(Labeled_mrna3_path, labeled_image3.astype('uint16'))\n",
      "C:\\Users\\Exx\\AppData\\Local\\Temp\\ipykernel_2228\\3972601648.py:161: UserWarning: \\\\?\\G:\\ISO\\4h_second_round\\Calm3\\2023-09-26_C57BL6_M_ISO-5h_Scn5a-488_NCad-568_Calm3-647_c1_deconv\\Segmented\\Labeled_Calm3.tif is a low contrast image\n",
      "  io.imsave(Labeled_mrna3_path, labeled_image3.astype('uint16'))\n",
      "Processing Images:  29%|██████████████████▌                                            | 20/68 [01:52<01:50,  2.30s/it]C:\\Users\\Exx\\AppData\\Local\\Temp\\ipykernel_2228\\3972601648.py:161: UserWarning: \\\\?\\G:\\ISO\\4h_second_round\\Calm3\\2023-09-26_C57BL6_M_ISO-5h_Camk2d-488_NCad-568_Calm3-647_c7_deconv\\Segmented\\Labeled_Calm3.tif is a low contrast image\n",
      "  io.imsave(Labeled_mrna3_path, labeled_image3.astype('uint16'))\n",
      "C:\\Users\\Exx\\AppData\\Local\\Temp\\ipykernel_2228\\3972601648.py:161: UserWarning: \\\\?\\G:\\ISO\\4h_second_round\\Calm3\\2023-09-26_C57BL6_M_ISO-5h_Scn5a-488_NCad-568_Calm3-647_c5_deconv\\Segmented\\Labeled_Calm3.tif is a low contrast image\n",
      "  io.imsave(Labeled_mrna3_path, labeled_image3.astype('uint16'))\n",
      "C:\\Users\\Exx\\AppData\\Local\\Temp\\ipykernel_2228\\3972601648.py:161: UserWarning: \\\\?\\G:\\ISO\\4h_second_round\\Calm3\\2023-09-26_C57BL6_M_ISO-5h_Scn5a-488_NCad-568_Calm3-647_c4_deconv\\Segmented\\Labeled_Calm3.tif is a low contrast image\n",
      "  io.imsave(Labeled_mrna3_path, labeled_image3.astype('uint16'))\n"
     ]
    },
    {
     "name": "stdout",
     "output_type": "stream",
     "text": [
      "Labeled image 3 saved in: \\\\?\\G:\\ISO\\4h_second_round\\Calm3\\2023-09-26_C57BL6_M_ISO-4h_Camk2d-488_NCad-568_Calm3-647_c4_deconv\\Segmented\\Labeled_Calm3.tif\n"
     ]
    },
    {
     "name": "stderr",
     "output_type": "stream",
     "text": [
      "Processing Images:  31%|███████████████████▍                                           | 21/68 [01:58<02:24,  3.07s/it]"
     ]
    },
    {
     "name": "stdout",
     "output_type": "stream",
     "text": [
      "Labeled image 3 saved in: \\\\?\\G:\\ISO\\4h_second_round\\Calm3\\2023-09-26_C57BL6_M_ISO-5h_Cacna1c-488_NCad-568_Calm3-647_c6_deconv\\Segmented\\Labeled_Calm3.tif\n"
     ]
    },
    {
     "name": "stderr",
     "output_type": "stream",
     "text": [
      "C:\\Users\\Exx\\AppData\\Local\\Temp\\ipykernel_2228\\3972601648.py:161: UserWarning: \\\\?\\G:\\ISO\\4h_second_round\\Calm3\\2023-09-26_C57BL6_M_ISO-5h_Scn5a-488_NCad-568_Calm3-647_c7_deconv\\Segmented\\Labeled_Calm3.tif is a low contrast image\n",
      "  io.imsave(Labeled_mrna3_path, labeled_image3.astype('uint16'))\n",
      "Processing Images:  32%|████████████████████▍                                          | 22/68 [02:00<02:08,  2.80s/it]"
     ]
    },
    {
     "name": "stdout",
     "output_type": "stream",
     "text": [
      "Labeled image 3 saved in: \\\\?\\G:\\ISO\\4h_second_round\\Calm3\\2023-09-26_C57BL6_M_ISO-5h_Cacna1c-488_NCad-568_Calm3-647_c1_deconv\\Segmented\\Labeled_Calm3.tif\n",
      "Labeled image 3 saved in: \\\\?\\G:\\ISO\\4h_second_round\\Calm3\\2023-09-26_C57BL6_M_ISO-4h_Camk2d-488_NCad-568_Calm3-647_c3_deconv\\Segmented\\Labeled_Calm3.tif\n",
      "Labeled image 3 saved in: \\\\?\\G:\\ISO\\4h_second_round\\Calm3\\2023-09-26_C57BL6_M_ISO-4h_Camk2d-488_NCad-568_Calm3-647_c7_deconv\\Segmented\\Labeled_Calm3.tif\n",
      "Labeled image 3 saved in: \\\\?\\G:\\ISO\\4h_second_round\\Calm3\\2023-09-26_C57BL6_M_ISO-5h_Cacna1c-488_NCad-568_Calm3-647_c7_deconv\\Segmented\\Labeled_Calm3.tif\n"
     ]
    },
    {
     "name": "stderr",
     "output_type": "stream",
     "text": [
      "Processing Images:  34%|█████████████████████▎                                         | 23/68 [02:02<01:57,  2.61s/it]C:\\Users\\Exx\\AppData\\Local\\Temp\\ipykernel_2228\\3972601648.py:161: UserWarning: \\\\?\\G:\\ISO\\4h_second_round\\Calm3\\2023-09-26_C57BL6_M_ISO-5h_Scn5a-488_NCad-568_Calm3-647_c3_deconv\\Segmented\\Labeled_Calm3.tif is a low contrast image\n",
      "  io.imsave(Labeled_mrna3_path, labeled_image3.astype('uint16'))\n"
     ]
    },
    {
     "name": "stdout",
     "output_type": "stream",
     "text": [
      "Labeled image 3 saved in: \\\\?\\G:\\ISO\\4h_second_round\\Calm3\\2023-09-26_C57BL6_M_ISO-4h_Scn5a-488_NCad-568_Calm3-647_c5_deconv\\Segmented\\Labeled_Calm3.tif\n",
      "Labeled image 3 saved in: \\\\?\\G:\\ISO\\4h_second_round\\Calm3\\2023-09-26_C57BL6_M_ISO-4h_Scn5a-488_NCad-568_Calm3-647_c2_deconv\\Segmented\\Labeled_Calm3.tif\n"
     ]
    },
    {
     "name": "stderr",
     "output_type": "stream",
     "text": [
      "Processing Images:  38%|████████████████████████                                       | 26/68 [02:02<00:53,  1.27s/it]C:\\Users\\Exx\\AppData\\Local\\Temp\\ipykernel_2228\\3972601648.py:161: UserWarning: \\\\?\\G:\\ISO\\4h_second_round\\Calm3\\2023-09-26_C57BL6_M_ISO-5h_Scn5a-488_NCad-568_Calm3-647_c8_deconv\\Segmented\\Labeled_Calm3.tif is a low contrast image\n",
      "  io.imsave(Labeled_mrna3_path, labeled_image3.astype('uint16'))\n",
      "Processing Images:  41%|█████████████████████████▉                                     | 28/68 [02:06<00:53,  1.33s/it]C:\\Users\\Exx\\AppData\\Local\\Temp\\ipykernel_2228\\3972601648.py:161: UserWarning: \\\\?\\G:\\ISO\\4h_second_round\\Calm3\\2023-09-26_C57BL6_M_Saline-4h_Cacna1c-488_NCad-568_Calm3-647_c4_deconv\\Segmented\\Labeled_Calm3.tif is a low contrast image\n",
      "  io.imsave(Labeled_mrna3_path, labeled_image3.astype('uint16'))\n",
      "C:\\Users\\Exx\\AppData\\Local\\Temp\\ipykernel_2228\\3972601648.py:161: UserWarning: \\\\?\\G:\\ISO\\4h_second_round\\Calm3\\2023-09-26_C57BL6_M_Saline-4h_Cacna1c-488_NCad-568_Calm3-647_c2_deconv\\Segmented\\Labeled_Calm3.tif is a low contrast image\n",
      "  io.imsave(Labeled_mrna3_path, labeled_image3.astype('uint16'))\n",
      "C:\\Users\\Exx\\AppData\\Local\\Temp\\ipykernel_2228\\3972601648.py:161: UserWarning: \\\\?\\G:\\ISO\\4h_second_round\\Calm3\\2023-09-26_C57BL6_M_Saline-4h_Cacna1c-488_NCad-568_Calm3-647_c1_deconv\\Segmented\\Labeled_Calm3.tif is a low contrast image\n",
      "  io.imsave(Labeled_mrna3_path, labeled_image3.astype('uint16'))\n"
     ]
    },
    {
     "name": "stdout",
     "output_type": "stream",
     "text": [
      "Labeled image 3 saved in: \\\\?\\G:\\ISO\\4h_second_round\\Calm3\\2023-09-26_C57BL6_M_ISO-4h_Scn5a-488_NCad-568_Calm3-647_c3_deconv\\Segmented\\Labeled_Calm3.tif\n",
      "Labeled image 3 saved in: \\\\?\\G:\\ISO\\4h_second_round\\Calm3\\2023-09-26_C57BL6_M_ISO-5h_Camk2d-488_NCad-568_Calm3-647_c3_deconv\\Segmented\\Labeled_Calm3.tif\n",
      "Labeled image 3 saved in: \\\\?\\G:\\ISO\\4h_second_round\\Calm3\\2023-09-26_C57BL6_M_ISO-5h_Camk2d-488_NCad-568_Calm3-647_c1_deconv\\Segmented\\Labeled_Calm3.tif\n",
      "Labeled image 3 saved in: \\\\?\\G:\\ISO\\4h_second_round\\Calm3\\2023-09-26_C57BL6_M_ISO-5h_Camk2d-488_NCad-568_Calm3-647_c2_deconv\\Segmented\\Labeled_Calm3.tif\n"
     ]
    },
    {
     "name": "stderr",
     "output_type": "stream",
     "text": [
      "C:\\Users\\Exx\\AppData\\Local\\Temp\\ipykernel_2228\\3972601648.py:162: UserWarning: \\\\?\\G:\\ISO\\4h_second_round\\Calm3\\2023-09-26_C57BL6_M_ISO-5h_Scn5a-488_NCad-568_Calm3-647_c2_deconv\\Segmented\\Masked_Calm3_filtered.tif is a low contrast image\n",
      "  io.imsave(Masked_mrna3_path, filtered_masked_image3)\n",
      "Processing Images:  43%|██████████████████████████▊                                    | 29/68 [02:14<01:53,  2.90s/it]"
     ]
    },
    {
     "name": "stdout",
     "output_type": "stream",
     "text": [
      "Labeled image 3 saved in: \\\\?\\G:\\ISO\\4h_second_round\\Calm3\\2023-09-26_C57BL6_M_ISO-5h_Camk2d-488_NCad-568_Calm3-647_c6_deconv\\Segmented\\Labeled_Calm3.tif\n",
      "Labeled image 3 saved in: \\\\?\\G:\\ISO\\4h_second_round\\Calm3\\2023-09-26_C57BL6_M_ISO-5h_Camk2d-488_NCad-568_Calm3-647_c5_deconv\\Segmented\\Labeled_Calm3.tif\n"
     ]
    },
    {
     "name": "stderr",
     "output_type": "stream",
     "text": [
      "C:\\Users\\Exx\\AppData\\Local\\Temp\\ipykernel_2228\\3972601648.py:162: UserWarning: \\\\?\\G:\\ISO\\4h_second_round\\Calm3\\2023-09-26_C57BL6_M_Saline-4h_Cacna1c-488_NCad-568_Calm3-647_c4_deconv\\Segmented\\Masked_Calm3_filtered.tif is a low contrast image\n",
      "  io.imsave(Masked_mrna3_path, filtered_masked_image3)\n",
      "C:\\Users\\Exx\\AppData\\Local\\Temp\\ipykernel_2228\\3972601648.py:161: UserWarning: \\\\?\\G:\\ISO\\4h_second_round\\Calm3\\2023-09-26_C57BL6_M_Saline-4h_Camk2d-488_NCad-568_Calm3-647_c1_deconv\\Segmented\\Labeled_Calm3.tif is a low contrast image\n",
      "  io.imsave(Labeled_mrna3_path, labeled_image3.astype('uint16'))\n"
     ]
    },
    {
     "name": "stdout",
     "output_type": "stream",
     "text": [
      "Labeled image 3 saved in: \\\\?\\G:\\ISO\\4h_second_round\\Calm3\\2023-09-26_C57BL6_M_ISO-5h_Scn5a-488_NCad-568_Calm3-647_c7_deconv\\Segmented\\Labeled_Calm3.tif\n"
     ]
    },
    {
     "name": "stderr",
     "output_type": "stream",
     "text": [
      "C:\\Users\\Exx\\AppData\\Local\\Temp\\ipykernel_2228\\3972601648.py:162: UserWarning: \\\\?\\G:\\ISO\\4h_second_round\\Calm3\\2023-09-26_C57BL6_M_Saline-4h_Cacna1c-488_NCad-568_Calm3-647_c2_deconv\\Segmented\\Masked_Calm3_filtered.tif is a low contrast image\n",
      "  io.imsave(Masked_mrna3_path, filtered_masked_image3)\n",
      "Processing Images:  44%|███████████████████████████▊                                   | 30/68 [02:16<01:43,  2.72s/it]C:\\Users\\Exx\\AppData\\Local\\Temp\\ipykernel_2228\\3972601648.py:161: UserWarning: \\\\?\\G:\\ISO\\4h_second_round\\Calm3\\2023-09-26_C57BL6_M_Saline-4h_Cacna1c-488_NCad-568_Calm3-647_c5_deconv\\Segmented\\Labeled_Calm3.tif is a low contrast image\n",
      "  io.imsave(Labeled_mrna3_path, labeled_image3.astype('uint16'))\n"
     ]
    },
    {
     "name": "stdout",
     "output_type": "stream",
     "text": [
      "Labeled image 3 saved in: \\\\?\\G:\\ISO\\4h_second_round\\Calm3\\2023-09-26_C57BL6_M_ISO-5h_Scn5a-488_NCad-568_Calm3-647_c2_deconv\\Segmented\\Labeled_Calm3.tif\n"
     ]
    },
    {
     "name": "stderr",
     "output_type": "stream",
     "text": [
      "Processing Images:  46%|████████████████████████████▋                                  | 31/68 [02:16<01:17,  2.09s/it]C:\\Users\\Exx\\AppData\\Local\\Temp\\ipykernel_2228\\3972601648.py:161: UserWarning: \\\\?\\G:\\ISO\\4h_second_round\\Calm3\\2023-09-26_C57BL6_M_Saline-4h_Cacna1c-488_NCad-568_Calm3-647_c8_deconv\\Segmented\\Labeled_Calm3.tif is a low contrast image\n",
      "  io.imsave(Labeled_mrna3_path, labeled_image3.astype('uint16'))\n",
      "Processing Images:  50%|███████████████████████████████▌                               | 34/68 [02:19<00:45,  1.33s/it]C:\\Users\\Exx\\AppData\\Local\\Temp\\ipykernel_2228\\3972601648.py:161: UserWarning: \\\\?\\G:\\ISO\\4h_second_round\\Calm3\\2023-09-26_C57BL6_M_Saline-4h_Cacna1c-488_NCad-568_Calm3-647_c6_deconv\\Segmented\\Labeled_Calm3.tif is a low contrast image\n",
      "  io.imsave(Labeled_mrna3_path, labeled_image3.astype('uint16'))\n",
      "Processing Images:  51%|████████████████████████████████▍                              | 35/68 [02:19<00:34,  1.05s/it]C:\\Users\\Exx\\AppData\\Local\\Temp\\ipykernel_2228\\3972601648.py:162: UserWarning: \\\\?\\G:\\ISO\\4h_second_round\\Calm3\\2023-09-26_C57BL6_M_ISO-5h_Scn5a-488_NCad-568_Calm3-647_c8_deconv\\Segmented\\Masked_Calm3_filtered.tif is a low contrast image\n",
      "  io.imsave(Masked_mrna3_path, filtered_masked_image3)\n",
      "C:\\Users\\Exx\\AppData\\Local\\Temp\\ipykernel_2228\\3972601648.py:162: UserWarning: \\\\?\\G:\\ISO\\4h_second_round\\Calm3\\2023-09-26_C57BL6_M_ISO-5h_Scn5a-488_NCad-568_Calm3-647_c1_deconv\\Segmented\\Masked_Calm3_filtered.tif is a low contrast image\n",
      "  io.imsave(Masked_mrna3_path, filtered_masked_image3)\n"
     ]
    },
    {
     "name": "stdout",
     "output_type": "stream",
     "text": [
      "Labeled image 3 saved in: \\\\?\\G:\\ISO\\4h_second_round\\Calm3\\2023-09-26_C57BL6_M_Saline-4h_Cacna1c-488_NCad-568_Calm3-647_c4_deconv\\Segmented\\Labeled_Calm3.tif\n"
     ]
    },
    {
     "name": "stderr",
     "output_type": "stream",
     "text": [
      "C:\\Users\\Exx\\AppData\\Local\\Temp\\ipykernel_2228\\3972601648.py:161: UserWarning: \\\\?\\G:\\ISO\\4h_second_round\\Calm3\\2023-09-26_C57BL6_M_Saline-4h_Cacna1c-488_NCad-568_Calm3-647_c3_deconv\\Segmented\\Labeled_Calm3.tif is a low contrast image\n",
      "  io.imsave(Labeled_mrna3_path, labeled_image3.astype('uint16'))\n",
      "C:\\Users\\Exx\\AppData\\Local\\Temp\\ipykernel_2228\\3972601648.py:161: UserWarning: \\\\?\\G:\\ISO\\4h_second_round\\Calm3\\2023-09-26_C57BL6_M_Saline-4h_Cacna1c-488_NCad-568_Calm3-647_c7_deconv\\Segmented\\Labeled_Calm3.tif is a low contrast image\n",
      "  io.imsave(Labeled_mrna3_path, labeled_image3.astype('uint16'))\n",
      "C:\\Users\\Exx\\AppData\\Local\\Temp\\ipykernel_2228\\3972601648.py:161: UserWarning: \\\\?\\G:\\ISO\\4h_second_round\\Calm3\\2023-09-26_C57BL6_M_ISO-5h_Scn5a-488_NCad-568_Calm3-647_c6_deconv\\Segmented\\Labeled_Calm3.tif is a low contrast image\n",
      "  io.imsave(Labeled_mrna3_path, labeled_image3.astype('uint16'))\n",
      "C:\\Users\\Exx\\AppData\\Local\\Temp\\ipykernel_2228\\3972601648.py:161: UserWarning: \\\\?\\G:\\ISO\\4h_second_round\\Calm3\\2023-09-26_C57BL6_M_Saline-4h_Camk2d-488_NCad-568_Calm3-647_c2_deconv\\Segmented\\Labeled_Calm3.tif is a low contrast image\n",
      "  io.imsave(Labeled_mrna3_path, labeled_image3.astype('uint16'))\n",
      "C:\\Users\\Exx\\AppData\\Local\\Temp\\ipykernel_2228\\3972601648.py:161: UserWarning: \\\\?\\G:\\ISO\\4h_second_round\\Calm3\\2023-09-26_C57BL6_M_Saline-4h_Camk2d-488_NCad-568_Calm3-647_c3_deconv\\Segmented\\Labeled_Calm3.tif is a low contrast image\n",
      "  io.imsave(Labeled_mrna3_path, labeled_image3.astype('uint16'))\n",
      "C:\\Users\\Exx\\AppData\\Local\\Temp\\ipykernel_2228\\3972601648.py:161: UserWarning: \\\\?\\G:\\ISO\\4h_second_round\\Calm3\\2023-09-26_C57BL6_M_Saline-4h_Camk2d-488_NCad-568_Calm3-647_c5_deconv\\Segmented\\Labeled_Calm3.tif is a low contrast image\n",
      "  io.imsave(Labeled_mrna3_path, labeled_image3.astype('uint16'))\n",
      "C:\\Users\\Exx\\AppData\\Local\\Temp\\ipykernel_2228\\3972601648.py:161: UserWarning: \\\\?\\G:\\ISO\\4h_second_round\\Calm3\\2023-09-26_C57BL6_M_Saline-4h_Camk2d-488_NCad-568_Calm3-647_c4_deconv\\Segmented\\Labeled_Calm3.tif is a low contrast image\n",
      "  io.imsave(Labeled_mrna3_path, labeled_image3.astype('uint16'))\n",
      "C:\\Users\\Exx\\AppData\\Local\\Temp\\ipykernel_2228\\3972601648.py:161: UserWarning: \\\\?\\G:\\ISO\\4h_second_round\\Calm3\\2023-09-26_C57BL6_M_Saline-4h_Camk2d-488_NCad-568_Calm3-647_c7_deconv\\Segmented\\Labeled_Calm3.tif is a low contrast image\n",
      "  io.imsave(Labeled_mrna3_path, labeled_image3.astype('uint16'))\n",
      "Processing Images:  54%|██████████████████████████████████▎                            | 37/68 [02:25<00:57,  1.86s/it]C:\\Users\\Exx\\AppData\\Local\\Temp\\ipykernel_2228\\3972601648.py:161: UserWarning: \\\\?\\G:\\ISO\\4h_second_round\\Calm3\\2023-09-26_C57BL6_M_Saline-4h_Camk2d-488_NCad-568_Calm3-647_c6_deconv\\Segmented\\Labeled_Calm3.tif is a low contrast image\n",
      "  io.imsave(Labeled_mrna3_path, labeled_image3.astype('uint16'))\n",
      "C:\\Users\\Exx\\AppData\\Local\\Temp\\ipykernel_2228\\3972601648.py:161: UserWarning: \\\\?\\G:\\ISO\\4h_second_round\\Calm3\\2023-09-26_C57BL6_M_Saline-4h_Camk2d-488_NCad-568_Calm3-647_c8_deconv\\Segmented\\Labeled_Calm3.tif is a low contrast image\n",
      "  io.imsave(Labeled_mrna3_path, labeled_image3.astype('uint16'))\n"
     ]
    },
    {
     "name": "stdout",
     "output_type": "stream",
     "text": [
      "Labeled image 3 saved in: \\\\?\\G:\\ISO\\4h_second_round\\Calm3\\2023-09-26_C57BL6_M_Saline-4h_Cacna1c-488_NCad-568_Calm3-647_c2_deconv\\Segmented\\Labeled_Calm3.tif\n",
      "Labeled image 3 saved in: \\\\?\\G:\\ISO\\4h_second_round\\Calm3\\2023-09-26_C57BL6_M_ISO-5h_Camk2d-488_NCad-568_Calm3-647_c8_deconv\\Segmented\\Labeled_Calm3.tif\n",
      "Labeled image 3 saved in: \\\\?\\G:\\ISO\\4h_second_round\\Calm3\\2023-09-26_C57BL6_M_ISO-5h_Scn5a-488_NCad-568_Calm3-647_c5_deconv\\Segmented\\Labeled_Calm3.tif\n"
     ]
    },
    {
     "name": "stderr",
     "output_type": "stream",
     "text": [
      "C:\\Users\\Exx\\AppData\\Local\\Temp\\ipykernel_2228\\3972601648.py:162: UserWarning: \\\\?\\G:\\ISO\\4h_second_round\\Calm3\\2023-09-26_C57BL6_M_Saline-4h_Cacna1c-488_NCad-568_Calm3-647_c1_deconv\\Segmented\\Masked_Calm3_filtered.tif is a low contrast image\n",
      "  io.imsave(Masked_mrna3_path, filtered_masked_image3)\n"
     ]
    },
    {
     "name": "stdout",
     "output_type": "stream",
     "text": [
      "Labeled image 3 saved in: \\\\?\\G:\\ISO\\4h_second_round\\Calm3\\2023-09-26_C57BL6_M_ISO-5h_Scn5a-488_NCad-568_Calm3-647_c8_deconv\\Segmented\\Labeled_Calm3.tif\n",
      "Labeled image 3 saved in: \\\\?\\G:\\ISO\\4h_second_round\\Calm3\\2023-09-26_C57BL6_M_ISO-5h_Scn5a-488_NCad-568_Calm3-647_c4_deconv\\Segmented\\Labeled_Calm3.tif\n"
     ]
    },
    {
     "name": "stderr",
     "output_type": "stream",
     "text": [
      "Processing Images:  60%|█████████████████████████████████████▉                         | 41/68 [02:34<00:38,  1.43s/it]"
     ]
    },
    {
     "name": "stdout",
     "output_type": "stream",
     "text": [
      "Labeled image 3 saved in: \\\\?\\G:\\ISO\\4h_second_round\\Calm3\\2023-09-26_C57BL6_M_ISO-5h_Camk2d-488_NCad-568_Calm3-647_c4_deconv\\Segmented\\Labeled_Calm3.tif\n",
      "Labeled image 3 saved in: \\\\?\\G:\\ISO\\4h_second_round\\Calm3\\2023-09-26_C57BL6_M_ISO-5h_Scn5a-488_NCad-568_Calm3-647_c1_deconv\\Segmented\\Labeled_Calm3.tif\n",
      "Labeled image 3 saved in: \\\\?\\G:\\ISO\\4h_second_round\\Calm3\\2023-09-26_C57BL6_M_ISO-5h_Camk2d-488_NCad-568_Calm3-647_c7_deconv\\Segmented\\Labeled_Calm3.tif\n"
     ]
    },
    {
     "name": "stderr",
     "output_type": "stream",
     "text": [
      "Processing Images:  62%|██████████████████████████████████████▉                        | 42/68 [02:34<00:29,  1.12s/it]"
     ]
    },
    {
     "name": "stdout",
     "output_type": "stream",
     "text": [
      "Labeled image 3 saved in: \\\\?\\G:\\ISO\\4h_second_round\\Calm3\\2023-09-26_C57BL6_M_Saline-4h_Cacna1c-488_NCad-568_Calm3-647_c1_deconv\\Segmented\\Labeled_Calm3.tif\n",
      "Labeled image 3 saved in: \\\\?\\G:\\ISO\\4h_second_round\\Calm3\\2023-09-26_C57BL6_M_Saline-4h_Camk2d-488_NCad-568_Calm3-647_c1_deconv\\Segmented\\Labeled_Calm3.tif\n",
      "Labeled image 3 saved in: \\\\?\\G:\\ISO\\4h_second_round\\Calm3\\2023-09-26_C57BL6_M_Saline-4h_Camk2d-488_NCad-568_Calm3-647_c3_deconv\\Segmented\\Labeled_Calm3.tif\n",
      "Labeled image 3 saved in: \\\\?\\G:\\ISO\\4h_second_round\\Calm3\\2023-09-26_C57BL6_M_Saline-4h_Camk2d-488_NCad-568_Calm3-647_c2_deconv\\Segmented\\Labeled_Calm3.tif\n"
     ]
    },
    {
     "name": "stderr",
     "output_type": "stream",
     "text": [
      "Processing Images:  66%|█████████████████████████████████████████▋                     | 45/68 [02:35<00:14,  1.55it/s]C:\\Users\\Exx\\AppData\\Local\\Temp\\ipykernel_2228\\3972601648.py:161: UserWarning: \\\\?\\G:\\ISO\\4h_second_round\\Calm3\\2023-09-26_C57BL6_M_Saline-4h_Scn5a-488_NCad-568_Calm3-647_c2_deconv\\Segmented\\Labeled_Calm3.tif is a low contrast image\n",
      "  io.imsave(Labeled_mrna3_path, labeled_image3.astype('uint16'))\n"
     ]
    },
    {
     "name": "stdout",
     "output_type": "stream",
     "text": [
      "Labeled image 3 saved in: \\\\?\\G:\\ISO\\4h_second_round\\Calm3\\2023-09-26_C57BL6_M_Saline-4h_Camk2d-488_NCad-568_Calm3-647_c5_deconv\\Segmented\\Labeled_Calm3.tif\n"
     ]
    },
    {
     "name": "stderr",
     "output_type": "stream",
     "text": [
      "Processing Images:  72%|█████████████████████████████████████████████▍                 | 49/68 [02:36<00:06,  2.86it/s]"
     ]
    },
    {
     "name": "stdout",
     "output_type": "stream",
     "text": [
      "Labeled image 3 saved in: \\\\?\\G:\\ISO\\4h_second_round\\Calm3\\2023-09-26_C57BL6_M_Saline-4h_Camk2d-488_NCad-568_Calm3-647_c4_deconv\\Segmented\\Labeled_Calm3.tif\n",
      "Labeled image 3 saved in: \\\\?\\G:\\ISO\\4h_second_round\\Calm3\\2023-09-26_C57BL6_M_Saline-4h_Camk2d-488_NCad-568_Calm3-647_c7_deconv\\Segmented\\Labeled_Calm3.tif\n"
     ]
    },
    {
     "name": "stderr",
     "output_type": "stream",
     "text": [
      "C:\\Users\\Exx\\AppData\\Local\\Temp\\ipykernel_2228\\3972601648.py:162: UserWarning: \\\\?\\G:\\ISO\\4h_second_round\\Calm3\\2023-09-26_C57BL6_M_Saline-4h_Cacna1c-488_NCad-568_Calm3-647_c5_deconv\\Segmented\\Masked_Calm3_filtered.tif is a low contrast image\n",
      "  io.imsave(Masked_mrna3_path, filtered_masked_image3)\n",
      "C:\\Users\\Exx\\AppData\\Local\\Temp\\ipykernel_2228\\3972601648.py:162: UserWarning: \\\\?\\G:\\ISO\\4h_second_round\\Calm3\\2023-09-26_C57BL6_M_ISO-5h_Scn5a-488_NCad-568_Calm3-647_c3_deconv\\Segmented\\Masked_Calm3_filtered.tif is a low contrast image\n",
      "  io.imsave(Masked_mrna3_path, filtered_masked_image3)\n"
     ]
    },
    {
     "name": "stdout",
     "output_type": "stream",
     "text": [
      "Labeled image 3 saved in: \\\\?\\G:\\ISO\\4h_second_round\\Calm3\\2023-09-26_C57BL6_M_Saline-4h_Cacna1c-488_NCad-568_Calm3-647_c8_deconv\\Segmented\\Labeled_Calm3.tif\n",
      "Labeled image 3 saved in: \\\\?\\G:\\ISO\\4h_second_round\\Calm3\\2023-09-26_C57BL6_M_Saline-4h_Camk2d-488_NCad-568_Calm3-647_c8_deconv\\Segmented\\Labeled_Calm3.tif\n"
     ]
    },
    {
     "name": "stderr",
     "output_type": "stream",
     "text": [
      "Processing Images:  75%|███████████████████████████████████████████████▎               | 51/68 [02:37<00:06,  2.70it/s]"
     ]
    },
    {
     "name": "stdout",
     "output_type": "stream",
     "text": [
      "Labeled image 3 saved in: \\\\?\\G:\\ISO\\4h_second_round\\Calm3\\2023-09-26_C57BL6_M_Saline-4h_Camk2d-488_NCad-568_Calm3-647_c6_deconv\\Segmented\\Labeled_Calm3.tif\n",
      "Labeled image 3 saved in: \\\\?\\G:\\ISO\\4h_second_round\\Calm3\\2023-09-26_C57BL6_M_Saline-4h_Cacna1c-488_NCad-568_Calm3-647_c5_deconv\\Segmented\\Labeled_Calm3.tif\n",
      "Labeled image 3 saved in: \\\\?\\G:\\ISO\\4h_second_round\\Calm3\\2023-09-26_C57BL6_M_ISO-5h_Scn5a-488_NCad-568_Calm3-647_c3_deconv\\Segmented\\Labeled_Calm3.tif\n"
     ]
    },
    {
     "name": "stderr",
     "output_type": "stream",
     "text": [
      "C:\\Users\\Exx\\AppData\\Local\\Temp\\ipykernel_2228\\3972601648.py:162: UserWarning: \\\\?\\G:\\ISO\\4h_second_round\\Calm3\\2023-09-26_C57BL6_M_Saline-4h_Cacna1c-488_NCad-568_Calm3-647_c3_deconv\\Segmented\\Masked_Calm3_filtered.tif is a low contrast image\n",
      "  io.imsave(Masked_mrna3_path, filtered_masked_image3)\n",
      "C:\\Users\\Exx\\AppData\\Local\\Temp\\ipykernel_2228\\3972601648.py:162: UserWarning: \\\\?\\G:\\ISO\\4h_second_round\\Calm3\\2023-09-26_C57BL6_M_Saline-4h_Scn5a-488_NCad-568_Calm3-647_c2_deconv\\Segmented\\Masked_Calm3_filtered.tif is a low contrast image\n",
      "  io.imsave(Masked_mrna3_path, filtered_masked_image3)\n",
      "C:\\Users\\Exx\\AppData\\Local\\Temp\\ipykernel_2228\\3972601648.py:162: UserWarning: \\\\?\\G:\\ISO\\4h_second_round\\Calm3\\2023-09-26_C57BL6_M_Saline-4h_Cacna1c-488_NCad-568_Calm3-647_c6_deconv\\Segmented\\Masked_Calm3_filtered.tif is a low contrast image\n",
      "  io.imsave(Masked_mrna3_path, filtered_masked_image3)\n",
      "Processing Images:  76%|████████████████████████████████████████████████▏              | 52/68 [02:37<00:05,  3.07it/s]C:\\Users\\Exx\\AppData\\Local\\Temp\\ipykernel_2228\\3972601648.py:162: UserWarning: \\\\?\\G:\\ISO\\4h_second_round\\Calm3\\2023-09-26_C57BL6_M_Saline-4h_Cacna1c-488_NCad-568_Calm3-647_c7_deconv\\Segmented\\Masked_Calm3_filtered.tif is a low contrast image\n",
      "  io.imsave(Masked_mrna3_path, filtered_masked_image3)\n",
      "Processing Images:  78%|█████████████████████████████████████████████████              | 53/68 [02:37<00:04,  3.66it/s]C:\\Users\\Exx\\AppData\\Local\\Temp\\ipykernel_2228\\3972601648.py:162: UserWarning: \\\\?\\G:\\ISO\\4h_second_round\\Calm3\\2023-09-26_C57BL6_M_ISO-5h_Scn5a-488_NCad-568_Calm3-647_c6_deconv\\Segmented\\Masked_Calm3_filtered.tif is a low contrast image\n",
      "  io.imsave(Masked_mrna3_path, filtered_masked_image3)\n"
     ]
    },
    {
     "name": "stdout",
     "output_type": "stream",
     "text": [
      "Labeled image 3 saved in: \\\\?\\G:\\ISO\\4h_second_round\\Calm3\\2023-09-26_C57BL6_M_Saline-4h_Scn5a-488_NCad-568_Calm3-647_c2_deconv\\Segmented\\Labeled_Calm3.tif\n"
     ]
    },
    {
     "name": "stderr",
     "output_type": "stream",
     "text": [
      "Processing Images:  82%|███████████████████████████████████████████████████▉           | 56/68 [02:38<00:03,  3.93it/s]"
     ]
    },
    {
     "name": "stdout",
     "output_type": "stream",
     "text": [
      "Labeled image 3 saved in: \\\\?\\G:\\ISO\\4h_second_round\\Calm3\\2023-09-26_C57BL6_M_Saline-4h_Cacna1c-488_NCad-568_Calm3-647_c3_deconv\\Segmented\\Labeled_Calm3.tif\n",
      "Labeled image 3 saved in: \\\\?\\G:\\ISO\\4h_second_round\\Calm3\\2023-09-26_C57BL6_M_ISO-5h_Scn5a-488_NCad-568_Calm3-647_c6_deconv\\Segmented\\Labeled_Calm3.tif\n",
      "Labeled image 3 saved in: \\\\?\\G:\\ISO\\4h_second_round\\Calm3\\2023-09-26_C57BL6_M_Saline-4h_Cacna1c-488_NCad-568_Calm3-647_c6_deconv\\Segmented\\Labeled_Calm3.tif\n",
      "Labeled image 3 saved in: \\\\?\\G:\\ISO\\4h_second_round\\Calm3\\2023-09-26_C57BL6_M_Saline-4h_Cacna1c-488_NCad-568_Calm3-647_c7_deconv\\Segmented\\Labeled_Calm3.tif\n"
     ]
    },
    {
     "name": "stderr",
     "output_type": "stream",
     "text": [
      "Processing Images:  91%|█████████████████████████████████████████████████████████▍     | 62/68 [02:40<00:02,  2.81it/s]C:\\Users\\Exx\\AppData\\Local\\Temp\\ipykernel_2228\\3972601648.py:161: UserWarning: \\\\?\\G:\\ISO\\4h_second_round\\Calm3\\2023-09-26_C57BL6_M_Saline-4h_Scn5a-488_NCad-568_Calm3-647_c3_deconv\\Segmented\\Labeled_Calm3.tif is a low contrast image\n",
      "  io.imsave(Labeled_mrna3_path, labeled_image3.astype('uint16'))\n",
      "C:\\Users\\Exx\\AppData\\Local\\Temp\\ipykernel_2228\\3972601648.py:162: UserWarning: \\\\?\\G:\\ISO\\4h_second_round\\Calm3\\2023-09-26_C57BL6_M_Saline-4h_Scn5a-488_NCad-568_Calm3-647_c3_deconv\\Segmented\\Masked_Calm3_filtered.tif is a low contrast image\n",
      "  io.imsave(Masked_mrna3_path, filtered_masked_image3)\n"
     ]
    },
    {
     "name": "stdout",
     "output_type": "stream",
     "text": [
      "Labeled image 3 saved in: \\\\?\\G:\\ISO\\4h_second_round\\Calm3\\2023-09-26_C57BL6_M_Saline-4h_Scn5a-488_NCad-568_Calm3-647_c3_deconv\\Segmented\\Labeled_Calm3.tif\n"
     ]
    },
    {
     "name": "stderr",
     "output_type": "stream",
     "text": [
      "Processing Images:  93%|██████████████████████████████████████████████████████████▎    | 63/68 [02:44<00:06,  1.25s/it]C:\\Users\\Exx\\AppData\\Local\\Temp\\ipykernel_2228\\3972601648.py:161: UserWarning: \\\\?\\G:\\ISO\\4h_second_round\\Calm3\\2023-09-26_C57BL6_M_Saline-4h_Scn5a-488_NCad-568_Calm3-647_c6_deconv\\Segmented\\Labeled_Calm3.tif is a low contrast image\n",
      "  io.imsave(Labeled_mrna3_path, labeled_image3.astype('uint16'))\n",
      "C:\\Users\\Exx\\AppData\\Local\\Temp\\ipykernel_2228\\3972601648.py:162: UserWarning: \\\\?\\G:\\ISO\\4h_second_round\\Calm3\\2023-09-26_C57BL6_M_Saline-4h_Scn5a-488_NCad-568_Calm3-647_c6_deconv\\Segmented\\Masked_Calm3_filtered.tif is a low contrast image\n",
      "  io.imsave(Masked_mrna3_path, filtered_masked_image3)\n"
     ]
    },
    {
     "name": "stdout",
     "output_type": "stream",
     "text": [
      "Labeled image 3 saved in: \\\\?\\G:\\ISO\\4h_second_round\\Calm3\\2023-09-26_C57BL6_M_Saline-4h_Scn5a-488_NCad-568_Calm3-647_c6_deconv\\Segmented\\Labeled_Calm3.tif\n"
     ]
    },
    {
     "name": "stderr",
     "output_type": "stream",
     "text": [
      "Processing Images:  94%|███████████████████████████████████████████████████████████▎   | 64/68 [02:47<00:06,  1.63s/it]C:\\Users\\Exx\\AppData\\Local\\Temp\\ipykernel_2228\\3972601648.py:161: UserWarning: \\\\?\\G:\\ISO\\4h_second_round\\Calm3\\2023-09-26_C57BL6_M_Saline-4h_Scn5a-488_NCad-568_Calm3-647_c5_deconv\\Segmented\\Labeled_Calm3.tif is a low contrast image\n",
      "  io.imsave(Labeled_mrna3_path, labeled_image3.astype('uint16'))\n",
      "C:\\Users\\Exx\\AppData\\Local\\Temp\\ipykernel_2228\\3972601648.py:161: UserWarning: \\\\?\\G:\\ISO\\4h_second_round\\Calm3\\2023-09-26_C57BL6_M_Saline-4h_Scn5a-488_NCad-568_Calm3-647_c4_deconv\\Segmented\\Labeled_Calm3.tif is a low contrast image\n",
      "  io.imsave(Labeled_mrna3_path, labeled_image3.astype('uint16'))\n",
      "C:\\Users\\Exx\\AppData\\Local\\Temp\\ipykernel_2228\\3972601648.py:162: UserWarning: \\\\?\\G:\\ISO\\4h_second_round\\Calm3\\2023-09-26_C57BL6_M_Saline-4h_Scn5a-488_NCad-568_Calm3-647_c4_deconv\\Segmented\\Masked_Calm3_filtered.tif is a low contrast image\n",
      "  io.imsave(Masked_mrna3_path, filtered_masked_image3)\n",
      "C:\\Users\\Exx\\AppData\\Local\\Temp\\ipykernel_2228\\3972601648.py:162: UserWarning: \\\\?\\G:\\ISO\\4h_second_round\\Calm3\\2023-09-26_C57BL6_M_Saline-4h_Scn5a-488_NCad-568_Calm3-647_c5_deconv\\Segmented\\Masked_Calm3_filtered.tif is a low contrast image\n",
      "  io.imsave(Masked_mrna3_path, filtered_masked_image3)\n"
     ]
    },
    {
     "name": "stdout",
     "output_type": "stream",
     "text": [
      "Labeled image 3 saved in: \\\\?\\G:\\ISO\\4h_second_round\\Calm3\\2023-09-26_C57BL6_M_Saline-4h_Scn5a-488_NCad-568_Calm3-647_c4_deconv\\Segmented\\Labeled_Calm3.tif\n",
      "Labeled image 3 saved in: \\\\?\\G:\\ISO\\4h_second_round\\Calm3\\2023-09-26_C57BL6_M_Saline-4h_Scn5a-488_NCad-568_Calm3-647_c5_deconv\\Segmented\\Labeled_Calm3.tif\n"
     ]
    },
    {
     "name": "stderr",
     "output_type": "stream",
     "text": [
      "Processing Images:  97%|█████████████████████████████████████████████████████████████▏ | 66/68 [02:49<00:02,  1.22s/it]C:\\Users\\Exx\\AppData\\Local\\Temp\\ipykernel_2228\\3972601648.py:161: UserWarning: \\\\?\\G:\\ISO\\4h_second_round\\Calm3\\2023-09-26_C57BL6_M_Saline-4h_Scn5a-488_NCad-568_Calm3-647_c8_deconv\\Segmented\\Labeled_Calm3.tif is a low contrast image\n",
      "  io.imsave(Labeled_mrna3_path, labeled_image3.astype('uint16'))\n"
     ]
    },
    {
     "name": "stdout",
     "output_type": "stream",
     "text": [
      "Labeled image 3 saved in: \\\\?\\G:\\ISO\\4h_second_round\\Calm3\\2023-09-26_C57BL6_M_Saline-4h_Scn5a-488_NCad-568_Calm3-647_c8_deconv\\Segmented\\Labeled_Calm3.tif\n"
     ]
    },
    {
     "name": "stderr",
     "output_type": "stream",
     "text": [
      "Processing Images:  99%|██████████████████████████████████████████████████████████████ | 67/68 [02:56<00:03,  3.04s/it]C:\\Users\\Exx\\AppData\\Local\\Temp\\ipykernel_2228\\3972601648.py:161: UserWarning: \\\\?\\G:\\ISO\\4h_second_round\\Calm3\\2023-09-26_C57BL6_M_Saline-4h_Scn5a-488_NCad-568_Calm3-647_c7_deconv\\Segmented\\Labeled_Calm3.tif is a low contrast image\n",
      "  io.imsave(Labeled_mrna3_path, labeled_image3.astype('uint16'))\n",
      "C:\\Users\\Exx\\AppData\\Local\\Temp\\ipykernel_2228\\3972601648.py:162: UserWarning: \\\\?\\G:\\ISO\\4h_second_round\\Calm3\\2023-09-26_C57BL6_M_Saline-4h_Scn5a-488_NCad-568_Calm3-647_c7_deconv\\Segmented\\Masked_Calm3_filtered.tif is a low contrast image\n",
      "  io.imsave(Masked_mrna3_path, filtered_masked_image3)\n"
     ]
    },
    {
     "name": "stdout",
     "output_type": "stream",
     "text": [
      "Labeled image 3 saved in: \\\\?\\G:\\ISO\\4h_second_round\\Calm3\\2023-09-26_C57BL6_M_Saline-4h_Scn5a-488_NCad-568_Calm3-647_c7_deconv\\Segmented\\Labeled_Calm3.tif\n"
     ]
    },
    {
     "name": "stderr",
     "output_type": "stream",
     "text": [
      "Processing Images: 100%|███████████████████████████████████████████████████████████████| 68/68 [03:13<00:00,  2.85s/it]\n"
     ]
    }
   ],
   "source": [
    "label_puncta_parallel(path_list)"
   ]
  },
  {
   "cell_type": "code",
   "execution_count": null,
   "id": "f6533e0a-c050-4f4f-b18e-375e545eff92",
   "metadata": {},
   "outputs": [],
   "source": []
  },
  {
   "cell_type": "code",
   "execution_count": null,
   "id": "ec49ffb3-87a8-465d-8784-2804cbd1fc08",
   "metadata": {},
   "outputs": [],
   "source": []
  }
 ],
 "metadata": {
  "kernelspec": {
   "display_name": "Python 3 (ipykernel)",
   "language": "python",
   "name": "python3"
  },
  "language_info": {
   "codemirror_mode": {
    "name": "ipython",
    "version": 3
   },
   "file_extension": ".py",
   "mimetype": "text/x-python",
   "name": "python",
   "nbconvert_exporter": "python",
   "pygments_lexer": "ipython3",
   "version": "3.10.11"
  }
 },
 "nbformat": 4,
 "nbformat_minor": 5
}
